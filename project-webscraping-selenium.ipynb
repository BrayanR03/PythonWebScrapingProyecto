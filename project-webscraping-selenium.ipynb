{
 "cells": [
  {
   "cell_type": "markdown",
   "metadata": {},
   "source": [
    "#### 🎬 PROYECTO DE WEB SCRAPING (SELENIUM - PANDAS - PLOTLY) 🚀  "
   ]
  },
  {
   "cell_type": "markdown",
   "metadata": {},
   "source": [
    "##### 📊 Análisis y Visualización de Datos de las **250 Mejores Películas** según IMDb  \n",
    "📌 **Descripción:**  \n",
    "Este proyecto utiliza **Selenium** para realizar **Web Scraping** en [IMDb Top 250](https://www.imdb.com/chart/top/) y extraer \n",
    "información clave de las películas más destacadas.  \n",
    "\n",
    "📌 **Objetivo:**  \n",
    "✔ Extraer y procesar datos de IMDb 📂  \n",
    "✔ Analizar tendencias en películas top 🎥  \n",
    "✔ Visualizar insights con gráficos 📊  \n",
    "\n",
    "📌 **Tecnologías utilizadas:**  \n",
    "🔹 **Selenium** → Automatización del scraping 🕵️  \n",
    "🔹 **Pandas** → Manejo y transformación de datos 🗂  \n",
    "🔹 **Plotly** → Visualización de patrones y tendencias 📈"
   ]
  },
  {
   "cell_type": "markdown",
   "metadata": {},
   "source": [
    "######  CONTINUAR HOY 21/03/2025"
   ]
  },
  {
   "cell_type": "markdown",
   "metadata": {},
   "source": [
    " ### 📌 **Redes Profesionales y Portafolio:**  \n",
    "🔗 [LinkedIn](https://www.linkedin.com/in/brayan-rafael-neciosup-bola%C3%B1os-407a59246/)  \n",
    "🔗 [GitHub](https://github.com/BrayanR03)  \n",
    "🔗 [Portafolio de Proyectos](https://bryanneciosup626.wixsite.com/brayandataanalitics)  "
   ]
  },
  {
   "cell_type": "markdown",
   "metadata": {},
   "source": [
    "### WEB SCRAPING 👇📊"
   ]
  },
  {
   "cell_type": "code",
   "execution_count": null,
   "metadata": {},
   "outputs": [],
   "source": [
    "# IMPORTAMOS LIBRERIAS\n",
    "from selenium import webdriver # Driver para utlizar con selenium\n",
    "from selenium.webdriver.common.by import By # Libreria para porder acceder a traves de IDs, class y XPATH\n",
    "from selenium.webdriver.support.ui import WebDriverWait # Brinda un tiempo de espera hasta que todos los elementos de la web esten listos.\n",
    "import pandas as pd # Librería para la manipulación de la información\n",
    "import re # Librería para trabajar con expresiones regulares\n",
    "from selenium.webdriver.support import expected_conditions as EC # Permite verificar si un o varios elementos estan listos para interactuar\n",
    "from selenium.webdriver.chrome.options import Options # Opciones para el navegador\n"
   ]
  },
  {
   "cell_type": "code",
   "execution_count": null,
   "metadata": {},
   "outputs": [
    {
     "name": "stdout",
     "output_type": "stream",
     "text": [
      "WEB SCRAPING REALIZADO\n"
     ]
    }
   ],
   "source": [
    "\n",
    "web_url = \"https://www.imdb.com/chart/top/\" # URL DE LA WEB\n",
    "path = \"webscraping/chromedriver-win64\"\n",
    "\n",
    "# ABRIMOS EL DRIVER\n",
    "driver = webdriver.Chrome() # Permite abrir la pagina en primer plano\n",
    "driver.get(web_url) # OBTENEMOS LA INFORMACIÓN DE LA WEB\n",
    "\n",
    "wait = WebDriverWait(driver, 20) # Brinda un tiempo de espera hasta que todos los elementos de la web esten listos.\n",
    "\n",
    "try:\n",
    "    \n",
    "    div_movies = wait.until(EC.presence_of_element_located((By.XPATH,'//div[@data-testid=\"chart-layout-main-column\"]')))\n",
    "    ul_movies = WebDriverWait(div_movies,10).until(\n",
    "        EC.presence_of_element_located((By.XPATH,'//ul[@role=\"presentation\"]'))\n",
    "    )\n",
    "    \n",
    "    # Extraemos el título de la película\n",
    "    title_movie = [i.text for i in WebDriverWait(ul_movies,15).until(EC.presence_of_all_elements_located((By.TAG_NAME,'h3')))]\n",
    "    \n",
    "    # Extraemos los detalles de la película (Año de estreno, duración (horas y minutos) y clasificación)\n",
    "    details_movie = [i.text for i in  WebDriverWait(ul_movies,15).until(EC.presence_of_all_elements_located((By.XPATH,'//div[@class=\"sc-f30335b4-6 kGhnhC cli-title-metadata\"]')))]\n",
    "    \n",
    "    # Extraemos el promedio de estrellas que tiene la película\n",
    "    star_rating_movie= [i.text for i in WebDriverWait(ul_movies,15).until(EC.presence_of_all_elements_located((By.CLASS_NAME,'ipc-rating-star--rating')))]\n",
    "    \n",
    "    # Extraemos la cantidad de votos que tiene la película\n",
    "    star_vote_count_movie = [i.text for i in WebDriverWait(ul_movies,15).until(EC.presence_of_all_elements_located((By.CLASS_NAME,'ipc-rating-star--voteCount')))]\n",
    "    print(\"WEB SCRAPING REALIZADO\")\n",
    "    # IMPORTANTE: Debemos buscar especificamente con que elementos interactuar, para evitar la búsqueda de todos los elementos en la página.\n",
    "    driver.quit() # Cerramos el proceso de selenium con el navegador\n",
    "except Exception as e:\n",
    "    print(f\"error al acceder al main: {e}\")\n",
    "    # driver.quit() # Cerramos el proceso de selenium con el navegador"
   ]
  },
  {
   "cell_type": "markdown",
   "metadata": {},
   "source": [
    "### DATA WRANGLING (MANIPULACIÓN DE DATOS) 👇📊"
   ]
  },
  {
   "cell_type": "code",
   "execution_count": 162,
   "metadata": {},
   "outputs": [
    {
     "data": {
      "text/html": [
       "<div>\n",
       "<style scoped>\n",
       "    .dataframe tbody tr th:only-of-type {\n",
       "        vertical-align: middle;\n",
       "    }\n",
       "\n",
       "    .dataframe tbody tr th {\n",
       "        vertical-align: top;\n",
       "    }\n",
       "\n",
       "    .dataframe thead th {\n",
       "        text-align: right;\n",
       "    }\n",
       "</style>\n",
       "<table border=\"1\" class=\"dataframe\">\n",
       "  <thead>\n",
       "    <tr style=\"text-align: right;\">\n",
       "      <th></th>\n",
       "      <th>Title Movie</th>\n",
       "      <th>Detail Movie</th>\n",
       "      <th>Star Rating Movie</th>\n",
       "      <th>Star Vote Count Movie</th>\n",
       "    </tr>\n",
       "  </thead>\n",
       "  <tbody>\n",
       "    <tr>\n",
       "      <th>0</th>\n",
       "      <td>1. Sueño de fuga</td>\n",
       "      <td>1994\\n2h 22m\\nB</td>\n",
       "      <td>9.3</td>\n",
       "      <td>(3 M)</td>\n",
       "    </tr>\n",
       "    <tr>\n",
       "      <th>1</th>\n",
       "      <td>2. El padrino</td>\n",
       "      <td>1972\\n2h 55m\\nC</td>\n",
       "      <td>9.2</td>\n",
       "      <td>(2.1 M)</td>\n",
       "    </tr>\n",
       "    <tr>\n",
       "      <th>2</th>\n",
       "      <td>3. Batman: El caballero de la noche</td>\n",
       "      <td>2008\\n2h 32m\\nB</td>\n",
       "      <td>9.0</td>\n",
       "      <td>(3 M)</td>\n",
       "    </tr>\n",
       "    <tr>\n",
       "      <th>3</th>\n",
       "      <td>4. El padrino (parte II)</td>\n",
       "      <td>1974\\n3h 22m\\nC</td>\n",
       "      <td>9.0</td>\n",
       "      <td>(1.4 M)</td>\n",
       "    </tr>\n",
       "    <tr>\n",
       "      <th>4</th>\n",
       "      <td>5. 12 hombres en pugna</td>\n",
       "      <td>1957\\n1h 36m\\nB</td>\n",
       "      <td>9.0</td>\n",
       "      <td>(918 k)</td>\n",
       "    </tr>\n",
       "  </tbody>\n",
       "</table>\n",
       "</div>"
      ],
      "text/plain": [
       "                           Title Movie     Detail Movie Star Rating Movie  \\\n",
       "0                     1. Sueño de fuga  1994\\n2h 22m\\nB               9.3   \n",
       "1                        2. El padrino  1972\\n2h 55m\\nC               9.2   \n",
       "2  3. Batman: El caballero de la noche  2008\\n2h 32m\\nB               9.0   \n",
       "3             4. El padrino (parte II)  1974\\n3h 22m\\nC               9.0   \n",
       "4               5. 12 hombres en pugna  1957\\n1h 36m\\nB               9.0   \n",
       "\n",
       "  Star Vote Count Movie  \n",
       "0                 (3 M)  \n",
       "1               (2.1 M)  \n",
       "2                 (3 M)  \n",
       "3               (1.4 M)  \n",
       "4               (918 k)  "
      ]
     },
     "execution_count": 162,
     "metadata": {},
     "output_type": "execute_result"
    }
   ],
   "source": [
    "# En esta sección realizaremos la manipulación de datos con la información de las películas.\n",
    "\n",
    "# Almacenamos en un diccionario la información, para una rápida transformación a un DATAFRAME\n",
    "diccionario_movie = {\n",
    "    \"Title Movie\": title_movie,\n",
    "    \"Detail Movie\": details_movie,\n",
    "    \"Star Rating Movie\": star_rating_movie,\n",
    "    \"Star Vote Count Movie\": star_vote_count_movie\n",
    "}\n",
    "df_movies = pd.DataFrame(diccionario_movie)\n",
    "df_movies.head()"
   ]
  },
  {
   "cell_type": "code",
   "execution_count": 163,
   "metadata": {},
   "outputs": [
    {
     "data": {
      "text/html": [
       "<div>\n",
       "<style scoped>\n",
       "    .dataframe tbody tr th:only-of-type {\n",
       "        vertical-align: middle;\n",
       "    }\n",
       "\n",
       "    .dataframe tbody tr th {\n",
       "        vertical-align: top;\n",
       "    }\n",
       "\n",
       "    .dataframe thead th {\n",
       "        text-align: right;\n",
       "    }\n",
       "</style>\n",
       "<table border=\"1\" class=\"dataframe\">\n",
       "  <thead>\n",
       "    <tr style=\"text-align: right;\">\n",
       "      <th></th>\n",
       "      <th>Title Movie</th>\n",
       "      <th>Star Rating Movie</th>\n",
       "      <th>Star Vote Count Movie</th>\n",
       "      <th>Year Movie</th>\n",
       "      <th>Duration Movie</th>\n",
       "      <th>Clasification Movie</th>\n",
       "    </tr>\n",
       "  </thead>\n",
       "  <tbody>\n",
       "    <tr>\n",
       "      <th>0</th>\n",
       "      <td>1. Sueño de fuga</td>\n",
       "      <td>9.3</td>\n",
       "      <td>(3 M)</td>\n",
       "      <td>1994</td>\n",
       "      <td>2h 22m</td>\n",
       "      <td>B</td>\n",
       "    </tr>\n",
       "    <tr>\n",
       "      <th>1</th>\n",
       "      <td>2. El padrino</td>\n",
       "      <td>9.2</td>\n",
       "      <td>(2.1 M)</td>\n",
       "      <td>1972</td>\n",
       "      <td>2h 55m</td>\n",
       "      <td>C</td>\n",
       "    </tr>\n",
       "    <tr>\n",
       "      <th>2</th>\n",
       "      <td>3. Batman: El caballero de la noche</td>\n",
       "      <td>9.0</td>\n",
       "      <td>(3 M)</td>\n",
       "      <td>2008</td>\n",
       "      <td>2h 32m</td>\n",
       "      <td>B</td>\n",
       "    </tr>\n",
       "    <tr>\n",
       "      <th>3</th>\n",
       "      <td>4. El padrino (parte II)</td>\n",
       "      <td>9.0</td>\n",
       "      <td>(1.4 M)</td>\n",
       "      <td>1974</td>\n",
       "      <td>3h 22m</td>\n",
       "      <td>C</td>\n",
       "    </tr>\n",
       "    <tr>\n",
       "      <th>4</th>\n",
       "      <td>5. 12 hombres en pugna</td>\n",
       "      <td>9.0</td>\n",
       "      <td>(918 k)</td>\n",
       "      <td>1957</td>\n",
       "      <td>1h 36m</td>\n",
       "      <td>B</td>\n",
       "    </tr>\n",
       "  </tbody>\n",
       "</table>\n",
       "</div>"
      ],
      "text/plain": [
       "                           Title Movie Star Rating Movie  \\\n",
       "0                     1. Sueño de fuga               9.3   \n",
       "1                        2. El padrino               9.2   \n",
       "2  3. Batman: El caballero de la noche               9.0   \n",
       "3             4. El padrino (parte II)               9.0   \n",
       "4               5. 12 hombres en pugna               9.0   \n",
       "\n",
       "  Star Vote Count Movie Year Movie Duration Movie Clasification Movie  \n",
       "0                 (3 M)       1994         2h 22m                   B  \n",
       "1               (2.1 M)       1972         2h 55m                   C  \n",
       "2                 (3 M)       2008         2h 32m                   B  \n",
       "3               (1.4 M)       1974         3h 22m                   C  \n",
       "4               (918 k)       1957         1h 36m                   B  "
      ]
     },
     "execution_count": 163,
     "metadata": {},
     "output_type": "execute_result"
    }
   ],
   "source": [
    "# Separamos la columna Detail Movie en 3 columnas (Year Movie - Duration Movie - Clasification Movie)\n",
    "df_movies[[\"Year Movie\",\"Duration Movie\",\"Clasification Movie\"]] = df_movies[\"Detail Movie\"].str.split('\\n',expand=True)\n",
    "# Eliminamos la columna Detail Movie\n",
    "df_movies.drop(\"Detail Movie\",inplace=True,axis=1)\n",
    "df_movies.head()"
   ]
  },
  {
   "cell_type": "code",
   "execution_count": 165,
   "metadata": {},
   "outputs": [
    {
     "data": {
      "text/html": [
       "<div>\n",
       "<style scoped>\n",
       "    .dataframe tbody tr th:only-of-type {\n",
       "        vertical-align: middle;\n",
       "    }\n",
       "\n",
       "    .dataframe tbody tr th {\n",
       "        vertical-align: top;\n",
       "    }\n",
       "\n",
       "    .dataframe thead th {\n",
       "        text-align: right;\n",
       "    }\n",
       "</style>\n",
       "<table border=\"1\" class=\"dataframe\">\n",
       "  <thead>\n",
       "    <tr style=\"text-align: right;\">\n",
       "      <th></th>\n",
       "      <th>Title Movie</th>\n",
       "      <th>Star Rating Movie</th>\n",
       "      <th>Star Vote Count Movie</th>\n",
       "      <th>Year Movie</th>\n",
       "      <th>Duration Movie</th>\n",
       "      <th>Clasification Movie</th>\n",
       "    </tr>\n",
       "  </thead>\n",
       "  <tbody>\n",
       "    <tr>\n",
       "      <th>0</th>\n",
       "      <td>Sueño de fuga</td>\n",
       "      <td>9.3</td>\n",
       "      <td>(3 M)</td>\n",
       "      <td>1994</td>\n",
       "      <td>2h 22m</td>\n",
       "      <td>B</td>\n",
       "    </tr>\n",
       "    <tr>\n",
       "      <th>1</th>\n",
       "      <td>El padrino</td>\n",
       "      <td>9.2</td>\n",
       "      <td>(2.1 M)</td>\n",
       "      <td>1972</td>\n",
       "      <td>2h 55m</td>\n",
       "      <td>C</td>\n",
       "    </tr>\n",
       "    <tr>\n",
       "      <th>2</th>\n",
       "      <td>Batman: El caballero de la noche</td>\n",
       "      <td>9.0</td>\n",
       "      <td>(3 M)</td>\n",
       "      <td>2008</td>\n",
       "      <td>2h 32m</td>\n",
       "      <td>B</td>\n",
       "    </tr>\n",
       "    <tr>\n",
       "      <th>3</th>\n",
       "      <td>El padrino (parte II)</td>\n",
       "      <td>9.0</td>\n",
       "      <td>(1.4 M)</td>\n",
       "      <td>1974</td>\n",
       "      <td>3h 22m</td>\n",
       "      <td>C</td>\n",
       "    </tr>\n",
       "    <tr>\n",
       "      <th>4</th>\n",
       "      <td>12 hombres en pugna</td>\n",
       "      <td>9.0</td>\n",
       "      <td>(918 k)</td>\n",
       "      <td>1957</td>\n",
       "      <td>1h 36m</td>\n",
       "      <td>B</td>\n",
       "    </tr>\n",
       "  </tbody>\n",
       "</table>\n",
       "</div>"
      ],
      "text/plain": [
       "                        Title Movie Star Rating Movie Star Vote Count Movie  \\\n",
       "0                     Sueño de fuga               9.3                 (3 M)   \n",
       "1                        El padrino               9.2               (2.1 M)   \n",
       "2  Batman: El caballero de la noche               9.0                 (3 M)   \n",
       "3             El padrino (parte II)               9.0               (1.4 M)   \n",
       "4               12 hombres en pugna               9.0               (918 k)   \n",
       "\n",
       "  Year Movie Duration Movie Clasification Movie  \n",
       "0       1994         2h 22m                   B  \n",
       "1       1972         2h 55m                   C  \n",
       "2       2008         2h 32m                   B  \n",
       "3       1974         3h 22m                   C  \n",
       "4       1957         1h 36m                   B  "
      ]
     },
     "execution_count": 165,
     "metadata": {},
     "output_type": "execute_result"
    }
   ],
   "source": [
    "# Tranformamos la columna Title Movie (Eliminamos el número, puntos, espacios que aparecía en la página)\n",
    "# Función para extraer el nombre de la película\n",
    "def extraer_nombre(nombre_pelicula):\n",
    "    match = re.search(r'^\\s*\\d+\\.\\s*(.*)',str(nombre_pelicula)) # Busca y extrae el nombre, con los prefijos (1. ) \n",
    "    return match.group(1).strip() if match else nombre_pelicula\n",
    "df_movies[\"Title Movie\"] = df_movies[\"Title Movie\"].apply(extraer_nombre)\n",
    "df_movies.head()"
   ]
  },
  {
   "cell_type": "code",
   "execution_count": 166,
   "metadata": {},
   "outputs": [
    {
     "data": {
      "text/html": [
       "<div>\n",
       "<style scoped>\n",
       "    .dataframe tbody tr th:only-of-type {\n",
       "        vertical-align: middle;\n",
       "    }\n",
       "\n",
       "    .dataframe tbody tr th {\n",
       "        vertical-align: top;\n",
       "    }\n",
       "\n",
       "    .dataframe thead th {\n",
       "        text-align: right;\n",
       "    }\n",
       "</style>\n",
       "<table border=\"1\" class=\"dataframe\">\n",
       "  <thead>\n",
       "    <tr style=\"text-align: right;\">\n",
       "      <th></th>\n",
       "      <th>Title Movie</th>\n",
       "      <th>Star Rating Movie</th>\n",
       "      <th>Star Vote Count Movie (M)</th>\n",
       "      <th>Year Movie</th>\n",
       "      <th>Duration Movie</th>\n",
       "      <th>Clasification Movie</th>\n",
       "    </tr>\n",
       "  </thead>\n",
       "  <tbody>\n",
       "    <tr>\n",
       "      <th>0</th>\n",
       "      <td>Sueño de fuga</td>\n",
       "      <td>9.3</td>\n",
       "      <td>3.000</td>\n",
       "      <td>1994</td>\n",
       "      <td>2h 22m</td>\n",
       "      <td>B</td>\n",
       "    </tr>\n",
       "    <tr>\n",
       "      <th>1</th>\n",
       "      <td>El padrino</td>\n",
       "      <td>9.2</td>\n",
       "      <td>2.100</td>\n",
       "      <td>1972</td>\n",
       "      <td>2h 55m</td>\n",
       "      <td>C</td>\n",
       "    </tr>\n",
       "    <tr>\n",
       "      <th>2</th>\n",
       "      <td>Batman: El caballero de la noche</td>\n",
       "      <td>9.0</td>\n",
       "      <td>3.000</td>\n",
       "      <td>2008</td>\n",
       "      <td>2h 32m</td>\n",
       "      <td>B</td>\n",
       "    </tr>\n",
       "    <tr>\n",
       "      <th>3</th>\n",
       "      <td>El padrino (parte II)</td>\n",
       "      <td>9.0</td>\n",
       "      <td>1.400</td>\n",
       "      <td>1974</td>\n",
       "      <td>3h 22m</td>\n",
       "      <td>C</td>\n",
       "    </tr>\n",
       "    <tr>\n",
       "      <th>4</th>\n",
       "      <td>12 hombres en pugna</td>\n",
       "      <td>9.0</td>\n",
       "      <td>0.918</td>\n",
       "      <td>1957</td>\n",
       "      <td>1h 36m</td>\n",
       "      <td>B</td>\n",
       "    </tr>\n",
       "  </tbody>\n",
       "</table>\n",
       "</div>"
      ],
      "text/plain": [
       "                        Title Movie Star Rating Movie  \\\n",
       "0                     Sueño de fuga               9.3   \n",
       "1                        El padrino               9.2   \n",
       "2  Batman: El caballero de la noche               9.0   \n",
       "3             El padrino (parte II)               9.0   \n",
       "4               12 hombres en pugna               9.0   \n",
       "\n",
       "   Star Vote Count Movie (M) Year Movie Duration Movie Clasification Movie  \n",
       "0                      3.000       1994         2h 22m                   B  \n",
       "1                      2.100       1972         2h 55m                   C  \n",
       "2                      3.000       2008         2h 32m                   B  \n",
       "3                      1.400       1974         3h 22m                   C  \n",
       "4                      0.918       1957         1h 36m                   B  "
      ]
     },
     "execution_count": 166,
     "metadata": {},
     "output_type": "execute_result"
    }
   ],
   "source": [
    "# Transformamos la columna Star Vote Count Movie (Millones)\n",
    "# Extraemos las cifras omitiendo \"()\", \"M-k\" y los convertimos a float para su análisis posterior.\n",
    "# Las cifras que empiecen \"0.\", las transformamos para que se estandaricen a la columna en Millones\n",
    "df_movies[\"Star Vote Count Movie\"] = df_movies[\"Star Vote Count Movie\"].apply(lambda x : float(x[2:-3:])/1000 if x[-2:-1:]=='k' else float(x[2:-3:]))\n",
    "# Cambiamos el nombre de la columna y establecemos que los valores con en Millones o próximos.\n",
    "df_movies = df_movies.rename({\"Star Vote Count Movie\":\"Star Vote Count Movie (M)\"},axis=1)\n",
    "df_movies.head()"
   ]
  },
  {
   "cell_type": "code",
   "execution_count": 167,
   "metadata": {},
   "outputs": [
    {
     "data": {
      "text/html": [
       "<div>\n",
       "<style scoped>\n",
       "    .dataframe tbody tr th:only-of-type {\n",
       "        vertical-align: middle;\n",
       "    }\n",
       "\n",
       "    .dataframe tbody tr th {\n",
       "        vertical-align: top;\n",
       "    }\n",
       "\n",
       "    .dataframe thead th {\n",
       "        text-align: right;\n",
       "    }\n",
       "</style>\n",
       "<table border=\"1\" class=\"dataframe\">\n",
       "  <thead>\n",
       "    <tr style=\"text-align: right;\">\n",
       "      <th></th>\n",
       "      <th>Title Movie</th>\n",
       "      <th>Star Rating Movie</th>\n",
       "      <th>Star Vote Count Movie (M)</th>\n",
       "      <th>Year Movie</th>\n",
       "      <th>Clasification Movie</th>\n",
       "      <th>Duration Hours</th>\n",
       "      <th>Duration Minutes</th>\n",
       "    </tr>\n",
       "  </thead>\n",
       "  <tbody>\n",
       "    <tr>\n",
       "      <th>0</th>\n",
       "      <td>Sueño de fuga</td>\n",
       "      <td>9.3</td>\n",
       "      <td>3.000</td>\n",
       "      <td>1994</td>\n",
       "      <td>B</td>\n",
       "      <td>2</td>\n",
       "      <td>22</td>\n",
       "    </tr>\n",
       "    <tr>\n",
       "      <th>1</th>\n",
       "      <td>El padrino</td>\n",
       "      <td>9.2</td>\n",
       "      <td>2.100</td>\n",
       "      <td>1972</td>\n",
       "      <td>C</td>\n",
       "      <td>2</td>\n",
       "      <td>55</td>\n",
       "    </tr>\n",
       "    <tr>\n",
       "      <th>2</th>\n",
       "      <td>Batman: El caballero de la noche</td>\n",
       "      <td>9.0</td>\n",
       "      <td>3.000</td>\n",
       "      <td>2008</td>\n",
       "      <td>B</td>\n",
       "      <td>2</td>\n",
       "      <td>32</td>\n",
       "    </tr>\n",
       "    <tr>\n",
       "      <th>3</th>\n",
       "      <td>El padrino (parte II)</td>\n",
       "      <td>9.0</td>\n",
       "      <td>1.400</td>\n",
       "      <td>1974</td>\n",
       "      <td>C</td>\n",
       "      <td>3</td>\n",
       "      <td>22</td>\n",
       "    </tr>\n",
       "    <tr>\n",
       "      <th>4</th>\n",
       "      <td>12 hombres en pugna</td>\n",
       "      <td>9.0</td>\n",
       "      <td>0.918</td>\n",
       "      <td>1957</td>\n",
       "      <td>B</td>\n",
       "      <td>1</td>\n",
       "      <td>36</td>\n",
       "    </tr>\n",
       "  </tbody>\n",
       "</table>\n",
       "</div>"
      ],
      "text/plain": [
       "                        Title Movie Star Rating Movie  \\\n",
       "0                     Sueño de fuga               9.3   \n",
       "1                        El padrino               9.2   \n",
       "2  Batman: El caballero de la noche               9.0   \n",
       "3             El padrino (parte II)               9.0   \n",
       "4               12 hombres en pugna               9.0   \n",
       "\n",
       "   Star Vote Count Movie (M) Year Movie Clasification Movie  Duration Hours  \\\n",
       "0                      3.000       1994                   B               2   \n",
       "1                      2.100       1972                   C               2   \n",
       "2                      3.000       2008                   B               2   \n",
       "3                      1.400       1974                   C               3   \n",
       "4                      0.918       1957                   B               1   \n",
       "\n",
       "   Duration Minutes  \n",
       "0                22  \n",
       "1                55  \n",
       "2                32  \n",
       "3                22  \n",
       "4                36  "
      ]
     },
     "execution_count": 167,
     "metadata": {},
     "output_type": "execute_result"
    }
   ],
   "source": [
    "# Dividimos la columna Duration Movie en: Duration Hours - Duration Minutes\n",
    "\n",
    "# Funciones para extraer horas y minutos\n",
    "def extraer_horas(duracion):\n",
    "    match = re.search(r\"(\\d+)h\", str(duracion))  # Busca el número que tiene de subfijo (h)\n",
    "    return int(match.group(1)) if match else 0   # Retornará 0, si no hay horas (Por ejemplo, si el dato es: 45m, 25m)\n",
    "\n",
    "def extraer_minutos(duracion):\n",
    "    match = re.search(r\"(\\d+)m\", str(duracion))  # Busca el número que tiene de subfijo (m)\n",
    "    return int(match.group(1)) if match else 0   # Retornará 0, si no hay minutos (Por ejemplo, si el dato es: 2h, 3h)\n",
    "\n",
    "# Creamos la columna Duration Hours\n",
    "df_movies[\"Duration Hours\"] = df_movies[\"Duration Movie\"].apply(extraer_horas)\n",
    "\n",
    "# Creamos la columna Duration Minutes\n",
    "df_movies[\"Duration Minutes\"] = df_movies[\"Duration Movie\"].apply(extraer_minutos)\n",
    "# Eliminamos la columna Duration Movies\n",
    "df_movies.drop(\"Duration Movie\",axis=1,inplace=True)\n",
    "df_movies.head()"
   ]
  },
  {
   "cell_type": "code",
   "execution_count": 168,
   "metadata": {},
   "outputs": [
    {
     "data": {
      "text/plain": [
       "Title Movie                  0\n",
       "Star Rating Movie            0\n",
       "Star Vote Count Movie (M)    0\n",
       "Year Movie                   0\n",
       "Clasification Movie          3\n",
       "Duration Hours               0\n",
       "Duration Minutes             0\n",
       "dtype: int64"
      ]
     },
     "execution_count": 168,
     "metadata": {},
     "output_type": "execute_result"
    }
   ],
   "source": [
    "# Verificamos existencia de datos nulos\n",
    "df_movies.isnull().sum()"
   ]
  },
  {
   "cell_type": "code",
   "execution_count": 174,
   "metadata": {},
   "outputs": [
    {
     "name": "stdout",
     "output_type": "stream",
     "text": [
      "Valores reemplazados\n"
     ]
    }
   ],
   "source": [
    "# Reemplazamos valores nulos de la columna (Clasification Movie) por \"S/C\"\n",
    "df_movies[\"Clasification Movie\"].fillna(\"S/C\",inplace=True)\n",
    "print(\"Valores reemplazados\")"
   ]
  },
  {
   "cell_type": "code",
   "execution_count": 176,
   "metadata": {},
   "outputs": [
    {
     "data": {
      "text/plain": [
       "Title Movie                  0\n",
       "Star Rating Movie            0\n",
       "Star Vote Count Movie (M)    0\n",
       "Year Movie                   0\n",
       "Clasification Movie          0\n",
       "Duration Hours               0\n",
       "Duration Minutes             0\n",
       "dtype: int64"
      ]
     },
     "execution_count": 176,
     "metadata": {},
     "output_type": "execute_result"
    }
   ],
   "source": [
    "# Verificamos que los valores nulos han sido reemplazados\n",
    "df_movies.isnull().sum()"
   ]
  },
  {
   "cell_type": "code",
   "execution_count": 177,
   "metadata": {},
   "outputs": [
    {
     "name": "stdout",
     "output_type": "stream",
     "text": [
      "Se exportó la información\n"
     ]
    }
   ],
   "source": [
    "# Exportamos nuestro dataset limpio y transformado a un .CSV\n",
    "df_movies.to_csv('MoviesTop250IMDB.csv',index=False,sep=',')\n",
    "print(\"Se exportó la información\")"
   ]
  },
  {
   "cell_type": "markdown",
   "metadata": {},
   "source": [
    "### VISUALIZACIÓN DE DATOS 👇📊"
   ]
  },
  {
   "cell_type": "code",
   "execution_count": null,
   "metadata": {},
   "outputs": [],
   "source": [
    "import plotly.express as px # Librería para crear gráficos interactivos"
   ]
  },
  {
   "cell_type": "code",
   "execution_count": 179,
   "metadata": {},
   "outputs": [
    {
     "data": {
      "text/html": [
       "<div>\n",
       "<style scoped>\n",
       "    .dataframe tbody tr th:only-of-type {\n",
       "        vertical-align: middle;\n",
       "    }\n",
       "\n",
       "    .dataframe tbody tr th {\n",
       "        vertical-align: top;\n",
       "    }\n",
       "\n",
       "    .dataframe thead th {\n",
       "        text-align: right;\n",
       "    }\n",
       "</style>\n",
       "<table border=\"1\" class=\"dataframe\">\n",
       "  <thead>\n",
       "    <tr style=\"text-align: right;\">\n",
       "      <th></th>\n",
       "      <th>Title Movie</th>\n",
       "      <th>Star Rating Movie</th>\n",
       "      <th>Star Vote Count Movie (M)</th>\n",
       "      <th>Year Movie</th>\n",
       "      <th>Clasification Movie</th>\n",
       "      <th>Duration Hours</th>\n",
       "      <th>Duration Minutes</th>\n",
       "    </tr>\n",
       "  </thead>\n",
       "  <tbody>\n",
       "    <tr>\n",
       "      <th>0</th>\n",
       "      <td>Sueño de fuga</td>\n",
       "      <td>9.3</td>\n",
       "      <td>3.000</td>\n",
       "      <td>1994</td>\n",
       "      <td>B</td>\n",
       "      <td>2</td>\n",
       "      <td>22</td>\n",
       "    </tr>\n",
       "    <tr>\n",
       "      <th>1</th>\n",
       "      <td>El padrino</td>\n",
       "      <td>9.2</td>\n",
       "      <td>2.100</td>\n",
       "      <td>1972</td>\n",
       "      <td>C</td>\n",
       "      <td>2</td>\n",
       "      <td>55</td>\n",
       "    </tr>\n",
       "    <tr>\n",
       "      <th>2</th>\n",
       "      <td>Batman: El caballero de la noche</td>\n",
       "      <td>9.0</td>\n",
       "      <td>3.000</td>\n",
       "      <td>2008</td>\n",
       "      <td>B</td>\n",
       "      <td>2</td>\n",
       "      <td>32</td>\n",
       "    </tr>\n",
       "    <tr>\n",
       "      <th>3</th>\n",
       "      <td>El padrino (parte II)</td>\n",
       "      <td>9.0</td>\n",
       "      <td>1.400</td>\n",
       "      <td>1974</td>\n",
       "      <td>C</td>\n",
       "      <td>3</td>\n",
       "      <td>22</td>\n",
       "    </tr>\n",
       "    <tr>\n",
       "      <th>4</th>\n",
       "      <td>12 hombres en pugna</td>\n",
       "      <td>9.0</td>\n",
       "      <td>0.918</td>\n",
       "      <td>1957</td>\n",
       "      <td>B</td>\n",
       "      <td>1</td>\n",
       "      <td>36</td>\n",
       "    </tr>\n",
       "  </tbody>\n",
       "</table>\n",
       "</div>"
      ],
      "text/plain": [
       "                        Title Movie  Star Rating Movie  \\\n",
       "0                     Sueño de fuga                9.3   \n",
       "1                        El padrino                9.2   \n",
       "2  Batman: El caballero de la noche                9.0   \n",
       "3             El padrino (parte II)                9.0   \n",
       "4               12 hombres en pugna                9.0   \n",
       "\n",
       "   Star Vote Count Movie (M)  Year Movie Clasification Movie  Duration Hours  \\\n",
       "0                      3.000        1994                   B               2   \n",
       "1                      2.100        1972                   C               2   \n",
       "2                      3.000        2008                   B               2   \n",
       "3                      1.400        1974                   C               3   \n",
       "4                      0.918        1957                   B               1   \n",
       "\n",
       "   Duration Minutes  \n",
       "0                22  \n",
       "1                55  \n",
       "2                32  \n",
       "3                22  \n",
       "4                36  "
      ]
     },
     "execution_count": 179,
     "metadata": {},
     "output_type": "execute_result"
    }
   ],
   "source": [
    "carpeta = r'../webscraping/'\n",
    "archivo = 'MoviesTop250IMDB.csv'\n",
    "dataset_movies = pd.read_csv(carpeta+archivo,sep=',')\n",
    "dataset_movies.head()\n"
   ]
  },
  {
   "cell_type": "code",
   "execution_count": 209,
   "metadata": {},
   "outputs": [
    {
     "data": {
      "application/vnd.plotly.v1+json": {
       "config": {
        "plotlyServerURL": "https://plot.ly"
       },
       "data": [
        {
         "hovertemplate": "Año:%{x}<br>Clasificación Estrella:%{y}<extra></extra>",
         "legendgroup": "",
         "line": {
          "color": "red",
          "dash": "solid"
         },
         "marker": {
          "symbol": "circle"
         },
         "mode": "lines+markers",
         "name": "",
         "orientation": "v",
         "showlegend": false,
         "type": "scatter",
         "x": [
          1921,
          1924,
          1925,
          1926,
          1927,
          1928,
          1931,
          1936,
          1939,
          1940,
          1941,
          1942,
          1944,
          1946,
          1948,
          1949,
          1950,
          1952,
          1953,
          1954,
          1957,
          1958,
          1959,
          1960,
          1961,
          1962,
          1963,
          1964,
          1965,
          1966,
          1968,
          1971,
          1972,
          1973,
          1974,
          1975,
          1976,
          1977,
          1978,
          1979,
          1980,
          1981,
          1982,
          1983,
          1984,
          1985,
          1986,
          1987,
          1988,
          1989,
          1990,
          1991,
          1992,
          1993,
          1994,
          1995,
          1996,
          1997,
          1998,
          1999,
          2000,
          2001,
          2002,
          2003,
          2004,
          2005,
          2006,
          2007,
          2008,
          2009,
          2010,
          2011,
          2012,
          2013,
          2014,
          2015,
          2016,
          2017,
          2018,
          2019,
          2020,
          2021,
          2022,
          2023,
          2024
         ],
         "xaxis": "x",
         "y": [
          8.2,
          8.2,
          8.1,
          8.1,
          8.3,
          8.1,
          8.4,
          8.5,
          8.133333333333333,
          8.200000000000001,
          8.3,
          8.3,
          8.3,
          8.35,
          8.2,
          8.1,
          8.266666666666666,
          8.3,
          8.1,
          8.35,
          8.35,
          8.3,
          8.200000000000001,
          8.4,
          8.25,
          8.4,
          8.3,
          8.3,
          8.149999999999999,
          8.45,
          8.4,
          8.2,
          9.2,
          8.2,
          8.55,
          8.274999999999999,
          8.133333333333333,
          8.6,
          8.1,
          8.45,
          8.35,
          8.4,
          8.149999999999999,
          8.3,
          8.266666666666667,
          8.333333333333334,
          8.200000000000001,
          8.2,
          8.325,
          8.149999999999999,
          8.7,
          8.6,
          8.25,
          8.325,
          8.8,
          8.3,
          8.1,
          8.32,
          8.3,
          8.450000000000001,
          8.28,
          8.42,
          8.5,
          8.316666666666666,
          8.142857142857142,
          8.166666666666666,
          8.4,
          8.18,
          8.5,
          8.25,
          8.34,
          8.22,
          8.4,
          8.149999999999999,
          8.3,
          8.12,
          8.2,
          8.200000000000001,
          8.35,
          8.283333333333333,
          8.25,
          8.466666666666667,
          8.2,
          8.533333333333333,
          8.375
         ],
         "yaxis": "y"
        }
       ],
       "layout": {
        "hoverlabel": {
         "bgcolor": "white",
         "font": {
          "color": "black"
         }
        },
        "legend": {
         "tracegroupgap": 0
        },
        "margin": {
         "t": 60
        },
        "template": {
         "data": {
          "bar": [
           {
            "error_x": {
             "color": "#2a3f5f"
            },
            "error_y": {
             "color": "#2a3f5f"
            },
            "marker": {
             "line": {
              "color": "#E5ECF6",
              "width": 0.5
             },
             "pattern": {
              "fillmode": "overlay",
              "size": 10,
              "solidity": 0.2
             }
            },
            "type": "bar"
           }
          ],
          "barpolar": [
           {
            "marker": {
             "line": {
              "color": "#E5ECF6",
              "width": 0.5
             },
             "pattern": {
              "fillmode": "overlay",
              "size": 10,
              "solidity": 0.2
             }
            },
            "type": "barpolar"
           }
          ],
          "carpet": [
           {
            "aaxis": {
             "endlinecolor": "#2a3f5f",
             "gridcolor": "white",
             "linecolor": "white",
             "minorgridcolor": "white",
             "startlinecolor": "#2a3f5f"
            },
            "baxis": {
             "endlinecolor": "#2a3f5f",
             "gridcolor": "white",
             "linecolor": "white",
             "minorgridcolor": "white",
             "startlinecolor": "#2a3f5f"
            },
            "type": "carpet"
           }
          ],
          "choropleth": [
           {
            "colorbar": {
             "outlinewidth": 0,
             "ticks": ""
            },
            "type": "choropleth"
           }
          ],
          "contour": [
           {
            "colorbar": {
             "outlinewidth": 0,
             "ticks": ""
            },
            "colorscale": [
             [
              0,
              "#0d0887"
             ],
             [
              0.1111111111111111,
              "#46039f"
             ],
             [
              0.2222222222222222,
              "#7201a8"
             ],
             [
              0.3333333333333333,
              "#9c179e"
             ],
             [
              0.4444444444444444,
              "#bd3786"
             ],
             [
              0.5555555555555556,
              "#d8576b"
             ],
             [
              0.6666666666666666,
              "#ed7953"
             ],
             [
              0.7777777777777778,
              "#fb9f3a"
             ],
             [
              0.8888888888888888,
              "#fdca26"
             ],
             [
              1,
              "#f0f921"
             ]
            ],
            "type": "contour"
           }
          ],
          "contourcarpet": [
           {
            "colorbar": {
             "outlinewidth": 0,
             "ticks": ""
            },
            "type": "contourcarpet"
           }
          ],
          "heatmap": [
           {
            "colorbar": {
             "outlinewidth": 0,
             "ticks": ""
            },
            "colorscale": [
             [
              0,
              "#0d0887"
             ],
             [
              0.1111111111111111,
              "#46039f"
             ],
             [
              0.2222222222222222,
              "#7201a8"
             ],
             [
              0.3333333333333333,
              "#9c179e"
             ],
             [
              0.4444444444444444,
              "#bd3786"
             ],
             [
              0.5555555555555556,
              "#d8576b"
             ],
             [
              0.6666666666666666,
              "#ed7953"
             ],
             [
              0.7777777777777778,
              "#fb9f3a"
             ],
             [
              0.8888888888888888,
              "#fdca26"
             ],
             [
              1,
              "#f0f921"
             ]
            ],
            "type": "heatmap"
           }
          ],
          "heatmapgl": [
           {
            "colorbar": {
             "outlinewidth": 0,
             "ticks": ""
            },
            "colorscale": [
             [
              0,
              "#0d0887"
             ],
             [
              0.1111111111111111,
              "#46039f"
             ],
             [
              0.2222222222222222,
              "#7201a8"
             ],
             [
              0.3333333333333333,
              "#9c179e"
             ],
             [
              0.4444444444444444,
              "#bd3786"
             ],
             [
              0.5555555555555556,
              "#d8576b"
             ],
             [
              0.6666666666666666,
              "#ed7953"
             ],
             [
              0.7777777777777778,
              "#fb9f3a"
             ],
             [
              0.8888888888888888,
              "#fdca26"
             ],
             [
              1,
              "#f0f921"
             ]
            ],
            "type": "heatmapgl"
           }
          ],
          "histogram": [
           {
            "marker": {
             "pattern": {
              "fillmode": "overlay",
              "size": 10,
              "solidity": 0.2
             }
            },
            "type": "histogram"
           }
          ],
          "histogram2d": [
           {
            "colorbar": {
             "outlinewidth": 0,
             "ticks": ""
            },
            "colorscale": [
             [
              0,
              "#0d0887"
             ],
             [
              0.1111111111111111,
              "#46039f"
             ],
             [
              0.2222222222222222,
              "#7201a8"
             ],
             [
              0.3333333333333333,
              "#9c179e"
             ],
             [
              0.4444444444444444,
              "#bd3786"
             ],
             [
              0.5555555555555556,
              "#d8576b"
             ],
             [
              0.6666666666666666,
              "#ed7953"
             ],
             [
              0.7777777777777778,
              "#fb9f3a"
             ],
             [
              0.8888888888888888,
              "#fdca26"
             ],
             [
              1,
              "#f0f921"
             ]
            ],
            "type": "histogram2d"
           }
          ],
          "histogram2dcontour": [
           {
            "colorbar": {
             "outlinewidth": 0,
             "ticks": ""
            },
            "colorscale": [
             [
              0,
              "#0d0887"
             ],
             [
              0.1111111111111111,
              "#46039f"
             ],
             [
              0.2222222222222222,
              "#7201a8"
             ],
             [
              0.3333333333333333,
              "#9c179e"
             ],
             [
              0.4444444444444444,
              "#bd3786"
             ],
             [
              0.5555555555555556,
              "#d8576b"
             ],
             [
              0.6666666666666666,
              "#ed7953"
             ],
             [
              0.7777777777777778,
              "#fb9f3a"
             ],
             [
              0.8888888888888888,
              "#fdca26"
             ],
             [
              1,
              "#f0f921"
             ]
            ],
            "type": "histogram2dcontour"
           }
          ],
          "mesh3d": [
           {
            "colorbar": {
             "outlinewidth": 0,
             "ticks": ""
            },
            "type": "mesh3d"
           }
          ],
          "parcoords": [
           {
            "line": {
             "colorbar": {
              "outlinewidth": 0,
              "ticks": ""
             }
            },
            "type": "parcoords"
           }
          ],
          "pie": [
           {
            "automargin": true,
            "type": "pie"
           }
          ],
          "scatter": [
           {
            "fillpattern": {
             "fillmode": "overlay",
             "size": 10,
             "solidity": 0.2
            },
            "type": "scatter"
           }
          ],
          "scatter3d": [
           {
            "line": {
             "colorbar": {
              "outlinewidth": 0,
              "ticks": ""
             }
            },
            "marker": {
             "colorbar": {
              "outlinewidth": 0,
              "ticks": ""
             }
            },
            "type": "scatter3d"
           }
          ],
          "scattercarpet": [
           {
            "marker": {
             "colorbar": {
              "outlinewidth": 0,
              "ticks": ""
             }
            },
            "type": "scattercarpet"
           }
          ],
          "scattergeo": [
           {
            "marker": {
             "colorbar": {
              "outlinewidth": 0,
              "ticks": ""
             }
            },
            "type": "scattergeo"
           }
          ],
          "scattergl": [
           {
            "marker": {
             "colorbar": {
              "outlinewidth": 0,
              "ticks": ""
             }
            },
            "type": "scattergl"
           }
          ],
          "scattermapbox": [
           {
            "marker": {
             "colorbar": {
              "outlinewidth": 0,
              "ticks": ""
             }
            },
            "type": "scattermapbox"
           }
          ],
          "scatterpolar": [
           {
            "marker": {
             "colorbar": {
              "outlinewidth": 0,
              "ticks": ""
             }
            },
            "type": "scatterpolar"
           }
          ],
          "scatterpolargl": [
           {
            "marker": {
             "colorbar": {
              "outlinewidth": 0,
              "ticks": ""
             }
            },
            "type": "scatterpolargl"
           }
          ],
          "scatterternary": [
           {
            "marker": {
             "colorbar": {
              "outlinewidth": 0,
              "ticks": ""
             }
            },
            "type": "scatterternary"
           }
          ],
          "surface": [
           {
            "colorbar": {
             "outlinewidth": 0,
             "ticks": ""
            },
            "colorscale": [
             [
              0,
              "#0d0887"
             ],
             [
              0.1111111111111111,
              "#46039f"
             ],
             [
              0.2222222222222222,
              "#7201a8"
             ],
             [
              0.3333333333333333,
              "#9c179e"
             ],
             [
              0.4444444444444444,
              "#bd3786"
             ],
             [
              0.5555555555555556,
              "#d8576b"
             ],
             [
              0.6666666666666666,
              "#ed7953"
             ],
             [
              0.7777777777777778,
              "#fb9f3a"
             ],
             [
              0.8888888888888888,
              "#fdca26"
             ],
             [
              1,
              "#f0f921"
             ]
            ],
            "type": "surface"
           }
          ],
          "table": [
           {
            "cells": {
             "fill": {
              "color": "#EBF0F8"
             },
             "line": {
              "color": "white"
             }
            },
            "header": {
             "fill": {
              "color": "#C8D4E3"
             },
             "line": {
              "color": "white"
             }
            },
            "type": "table"
           }
          ]
         },
         "layout": {
          "annotationdefaults": {
           "arrowcolor": "#2a3f5f",
           "arrowhead": 0,
           "arrowwidth": 1
          },
          "autotypenumbers": "strict",
          "coloraxis": {
           "colorbar": {
            "outlinewidth": 0,
            "ticks": ""
           }
          },
          "colorscale": {
           "diverging": [
            [
             0,
             "#8e0152"
            ],
            [
             0.1,
             "#c51b7d"
            ],
            [
             0.2,
             "#de77ae"
            ],
            [
             0.3,
             "#f1b6da"
            ],
            [
             0.4,
             "#fde0ef"
            ],
            [
             0.5,
             "#f7f7f7"
            ],
            [
             0.6,
             "#e6f5d0"
            ],
            [
             0.7,
             "#b8e186"
            ],
            [
             0.8,
             "#7fbc41"
            ],
            [
             0.9,
             "#4d9221"
            ],
            [
             1,
             "#276419"
            ]
           ],
           "sequential": [
            [
             0,
             "#0d0887"
            ],
            [
             0.1111111111111111,
             "#46039f"
            ],
            [
             0.2222222222222222,
             "#7201a8"
            ],
            [
             0.3333333333333333,
             "#9c179e"
            ],
            [
             0.4444444444444444,
             "#bd3786"
            ],
            [
             0.5555555555555556,
             "#d8576b"
            ],
            [
             0.6666666666666666,
             "#ed7953"
            ],
            [
             0.7777777777777778,
             "#fb9f3a"
            ],
            [
             0.8888888888888888,
             "#fdca26"
            ],
            [
             1,
             "#f0f921"
            ]
           ],
           "sequentialminus": [
            [
             0,
             "#0d0887"
            ],
            [
             0.1111111111111111,
             "#46039f"
            ],
            [
             0.2222222222222222,
             "#7201a8"
            ],
            [
             0.3333333333333333,
             "#9c179e"
            ],
            [
             0.4444444444444444,
             "#bd3786"
            ],
            [
             0.5555555555555556,
             "#d8576b"
            ],
            [
             0.6666666666666666,
             "#ed7953"
            ],
            [
             0.7777777777777778,
             "#fb9f3a"
            ],
            [
             0.8888888888888888,
             "#fdca26"
            ],
            [
             1,
             "#f0f921"
            ]
           ]
          },
          "colorway": [
           "#636efa",
           "#EF553B",
           "#00cc96",
           "#ab63fa",
           "#FFA15A",
           "#19d3f3",
           "#FF6692",
           "#B6E880",
           "#FF97FF",
           "#FECB52"
          ],
          "font": {
           "color": "#2a3f5f"
          },
          "geo": {
           "bgcolor": "white",
           "lakecolor": "white",
           "landcolor": "#E5ECF6",
           "showlakes": true,
           "showland": true,
           "subunitcolor": "white"
          },
          "hoverlabel": {
           "align": "left"
          },
          "hovermode": "closest",
          "mapbox": {
           "style": "light"
          },
          "paper_bgcolor": "white",
          "plot_bgcolor": "#E5ECF6",
          "polar": {
           "angularaxis": {
            "gridcolor": "white",
            "linecolor": "white",
            "ticks": ""
           },
           "bgcolor": "#E5ECF6",
           "radialaxis": {
            "gridcolor": "white",
            "linecolor": "white",
            "ticks": ""
           }
          },
          "scene": {
           "xaxis": {
            "backgroundcolor": "#E5ECF6",
            "gridcolor": "white",
            "gridwidth": 2,
            "linecolor": "white",
            "showbackground": true,
            "ticks": "",
            "zerolinecolor": "white"
           },
           "yaxis": {
            "backgroundcolor": "#E5ECF6",
            "gridcolor": "white",
            "gridwidth": 2,
            "linecolor": "white",
            "showbackground": true,
            "ticks": "",
            "zerolinecolor": "white"
           },
           "zaxis": {
            "backgroundcolor": "#E5ECF6",
            "gridcolor": "white",
            "gridwidth": 2,
            "linecolor": "white",
            "showbackground": true,
            "ticks": "",
            "zerolinecolor": "white"
           }
          },
          "shapedefaults": {
           "line": {
            "color": "#2a3f5f"
           }
          },
          "ternary": {
           "aaxis": {
            "gridcolor": "white",
            "linecolor": "white",
            "ticks": ""
           },
           "baxis": {
            "gridcolor": "white",
            "linecolor": "white",
            "ticks": ""
           },
           "bgcolor": "#E5ECF6",
           "caxis": {
            "gridcolor": "white",
            "linecolor": "white",
            "ticks": ""
           }
          },
          "title": {
           "x": 0.05
          },
          "xaxis": {
           "automargin": true,
           "gridcolor": "white",
           "linecolor": "white",
           "ticks": "",
           "title": {
            "standoff": 15
           },
           "zerolinecolor": "white",
           "zerolinewidth": 2
          },
          "yaxis": {
           "automargin": true,
           "gridcolor": "white",
           "linecolor": "white",
           "ticks": "",
           "title": {
            "standoff": 15
           },
           "zerolinecolor": "white",
           "zerolinewidth": 2
          }
         }
        },
        "title": {
         "text": "Evolución Promedio de Star Rating Movie",
         "x": 0.5
        },
        "xaxis": {
         "anchor": "y",
         "domain": [
          0,
          1
         ],
         "title": {
          "text": "Estrellas por Película"
         }
        },
        "yaxis": {
         "anchor": "x",
         "domain": [
          0,
          1
         ],
         "title": {
          "text": "Año"
         }
        }
       }
      }
     },
     "metadata": {},
     "output_type": "display_data"
    }
   ],
   "source": [
    "# 1 Comparación de Calificaciones Promedio por Año\n",
    "\n",
    "df_promedio = dataset_movies.groupby(by=\"Year Movie\",as_index=False,observed=True)[\"Star Rating Movie\"].mean()\n",
    "line_plot = px.line(data_frame=df_promedio,x=\"Year Movie\",y=\"Star Rating Movie\",markers=True)\n",
    "line_plot.update_layout(\n",
    "    title = \"Evolución Promedio de Star Rating Movie\",\n",
    "    title_x = 0.5,\n",
    "    xaxis_title = 'Estrellas por Película',\n",
    "    yaxis_title = 'Año',\n",
    "    hoverlabel = dict(\n",
    "        bgcolor = \"white\",\n",
    "        font_color = \"black\"\n",
    "    )\n",
    ")\n",
    "line_plot.update_traces(\n",
    "    hovertemplate = \"Año:%{x}<br>Clasificación Estrella:%{y}<extra></extra>\",\n",
    "    line = dict(\n",
    "        color = \"red\"\n",
    "    )\n",
    ")\n",
    "line_plot.show()"
   ]
  },
  {
   "cell_type": "code",
   "execution_count": 201,
   "metadata": {},
   "outputs": [
    {
     "data": {
      "application/vnd.plotly.v1+json": {
       "config": {
        "plotlyServerURL": "https://plot.ly"
       },
       "data": [
        {
         "alignmentgroup": "True",
         "bingroup": "x",
         "histfunc": "sum",
         "hovertemplate": "Duración (Minutos): %{y}<br>Título:%{x}<extra></extra>",
         "legendgroup": "Lo que el viento se llevó",
         "marker": {
          "color": "#636efa",
          "pattern": {
           "shape": ""
          }
         },
         "name": "Lo que el viento se llevó",
         "offsetgroup": "Lo que el viento se llevó",
         "orientation": "v",
         "showlegend": true,
         "type": "histogram",
         "x": [
          "Lo que el viento se llevó"
         ],
         "xaxis": "x",
         "y": [
          58
         ],
         "yaxis": "y"
        },
        {
         "alignmentgroup": "True",
         "bingroup": "x",
         "histfunc": "sum",
         "hovertemplate": "Duración (Minutos): %{y}<br>Título:%{x}<extra></extra>",
         "legendgroup": "Érase una vez en América",
         "marker": {
          "color": "#EF553B",
          "pattern": {
           "shape": ""
          }
         },
         "name": "Érase una vez en América",
         "offsetgroup": "Érase una vez en América",
         "orientation": "v",
         "showlegend": true,
         "type": "histogram",
         "x": [
          "Érase una vez en América"
         ],
         "xaxis": "x",
         "y": [
          49
         ],
         "yaxis": "y"
        },
        {
         "alignmentgroup": "True",
         "bingroup": "x",
         "histfunc": "sum",
         "hovertemplate": "Duración (Minutos): %{y}<br>Título:%{x}<extra></extra>",
         "legendgroup": "Lawrence de Arabia",
         "marker": {
          "color": "#00cc96",
          "pattern": {
           "shape": ""
          }
         },
         "name": "Lawrence de Arabia",
         "offsetgroup": "Lawrence de Arabia",
         "orientation": "v",
         "showlegend": true,
         "type": "histogram",
         "x": [
          "Lawrence de Arabia"
         ],
         "xaxis": "x",
         "y": [
          47
         ],
         "yaxis": "y"
        },
        {
         "alignmentgroup": "True",
         "bingroup": "x",
         "histfunc": "sum",
         "hovertemplate": "Duración (Minutos): %{y}<br>Título:%{x}<extra></extra>",
         "legendgroup": "Ben-Hur",
         "marker": {
          "color": "#ab63fa",
          "pattern": {
           "shape": ""
          }
         },
         "name": "Ben-Hur",
         "offsetgroup": "Ben-Hur",
         "orientation": "v",
         "showlegend": true,
         "type": "histogram",
         "x": [
          "Ben-Hur"
         ],
         "xaxis": "x",
         "y": [
          32
         ],
         "yaxis": "y"
        },
        {
         "alignmentgroup": "True",
         "bingroup": "x",
         "histfunc": "sum",
         "hovertemplate": "Duración (Minutos): %{y}<br>Título:%{x}<extra></extra>",
         "legendgroup": "Los siete samuráis",
         "marker": {
          "color": "#FFA15A",
          "pattern": {
           "shape": ""
          }
         },
         "name": "Los siete samuráis",
         "offsetgroup": "Los siete samuráis",
         "orientation": "v",
         "showlegend": true,
         "type": "histogram",
         "x": [
          "Los siete samuráis"
         ],
         "xaxis": "x",
         "y": [
          27
         ],
         "yaxis": "y"
        },
        {
         "alignmentgroup": "True",
         "bingroup": "x",
         "histfunc": "sum",
         "hovertemplate": "Duración (Minutos): %{y}<br>Título:%{x}<extra></extra>",
         "legendgroup": "El padrino (parte II)",
         "marker": {
          "color": "#19d3f3",
          "pattern": {
           "shape": ""
          }
         },
         "name": "El padrino (parte II)",
         "offsetgroup": "El padrino (parte II)",
         "orientation": "v",
         "showlegend": true,
         "type": "histogram",
         "x": [
          "El padrino (parte II)"
         ],
         "xaxis": "x",
         "y": [
          22
         ],
         "yaxis": "y"
        },
        {
         "alignmentgroup": "True",
         "bingroup": "x",
         "histfunc": "sum",
         "hovertemplate": "Duración (Minutos): %{y}<br>Título:%{x}<extra></extra>",
         "legendgroup": "El señor de los anillos: El retorno del rey",
         "marker": {
          "color": "#FF6692",
          "pattern": {
           "shape": ""
          }
         },
         "name": "El señor de los anillos: El retorno del rey",
         "offsetgroup": "El señor de los anillos: El retorno del rey",
         "orientation": "v",
         "showlegend": true,
         "type": "histogram",
         "x": [
          "El señor de los anillos: El retorno del rey"
         ],
         "xaxis": "x",
         "y": [
          21
         ],
         "yaxis": "y"
        },
        {
         "alignmentgroup": "True",
         "bingroup": "x",
         "histfunc": "sum",
         "hovertemplate": "Duración (Minutos): %{y}<br>Título:%{x}<extra></extra>",
         "legendgroup": "La Lista de Schindler",
         "marker": {
          "color": "#B6E880",
          "pattern": {
           "shape": ""
          }
         },
         "name": "La Lista de Schindler",
         "offsetgroup": "La Lista de Schindler",
         "orientation": "v",
         "showlegend": true,
         "type": "histogram",
         "x": [
          "La Lista de Schindler"
         ],
         "xaxis": "x",
         "y": [
          15
         ],
         "yaxis": "y"
        },
        {
         "alignmentgroup": "True",
         "bingroup": "x",
         "histfunc": "sum",
         "hovertemplate": "Duración (Minutos): %{y}<br>Título:%{x}<extra></extra>",
         "legendgroup": "Milagros inesperados",
         "marker": {
          "color": "#FF97FF",
          "pattern": {
           "shape": ""
          }
         },
         "name": "Milagros inesperados",
         "offsetgroup": "Milagros inesperados",
         "orientation": "v",
         "showlegend": true,
         "type": "histogram",
         "x": [
          "Milagros inesperados"
         ],
         "xaxis": "x",
         "y": [
          9
         ],
         "yaxis": "y"
        },
        {
         "alignmentgroup": "True",
         "bingroup": "x",
         "histfunc": "sum",
         "hovertemplate": "Duración (Minutos): %{y}<br>Título:%{x}<extra></extra>",
         "legendgroup": "Barry Lyndon",
         "marker": {
          "color": "#FECB52",
          "pattern": {
           "shape": ""
          }
         },
         "name": "Barry Lyndon",
         "offsetgroup": "Barry Lyndon",
         "orientation": "v",
         "showlegend": true,
         "type": "histogram",
         "x": [
          "Barry Lyndon"
         ],
         "xaxis": "x",
         "y": [
          5
         ],
         "yaxis": "y"
        }
       ],
       "layout": {
        "barmode": "relative",
        "hoverlabel": {
         "bgcolor": "green"
        },
        "legend": {
         "title": {
          "text": "Title Movie"
         },
         "tracegroupgap": 0
        },
        "margin": {
         "t": 60
        },
        "showlegend": false,
        "template": {
         "data": {
          "bar": [
           {
            "error_x": {
             "color": "#2a3f5f"
            },
            "error_y": {
             "color": "#2a3f5f"
            },
            "marker": {
             "line": {
              "color": "#E5ECF6",
              "width": 0.5
             },
             "pattern": {
              "fillmode": "overlay",
              "size": 10,
              "solidity": 0.2
             }
            },
            "type": "bar"
           }
          ],
          "barpolar": [
           {
            "marker": {
             "line": {
              "color": "#E5ECF6",
              "width": 0.5
             },
             "pattern": {
              "fillmode": "overlay",
              "size": 10,
              "solidity": 0.2
             }
            },
            "type": "barpolar"
           }
          ],
          "carpet": [
           {
            "aaxis": {
             "endlinecolor": "#2a3f5f",
             "gridcolor": "white",
             "linecolor": "white",
             "minorgridcolor": "white",
             "startlinecolor": "#2a3f5f"
            },
            "baxis": {
             "endlinecolor": "#2a3f5f",
             "gridcolor": "white",
             "linecolor": "white",
             "minorgridcolor": "white",
             "startlinecolor": "#2a3f5f"
            },
            "type": "carpet"
           }
          ],
          "choropleth": [
           {
            "colorbar": {
             "outlinewidth": 0,
             "ticks": ""
            },
            "type": "choropleth"
           }
          ],
          "contour": [
           {
            "colorbar": {
             "outlinewidth": 0,
             "ticks": ""
            },
            "colorscale": [
             [
              0,
              "#0d0887"
             ],
             [
              0.1111111111111111,
              "#46039f"
             ],
             [
              0.2222222222222222,
              "#7201a8"
             ],
             [
              0.3333333333333333,
              "#9c179e"
             ],
             [
              0.4444444444444444,
              "#bd3786"
             ],
             [
              0.5555555555555556,
              "#d8576b"
             ],
             [
              0.6666666666666666,
              "#ed7953"
             ],
             [
              0.7777777777777778,
              "#fb9f3a"
             ],
             [
              0.8888888888888888,
              "#fdca26"
             ],
             [
              1,
              "#f0f921"
             ]
            ],
            "type": "contour"
           }
          ],
          "contourcarpet": [
           {
            "colorbar": {
             "outlinewidth": 0,
             "ticks": ""
            },
            "type": "contourcarpet"
           }
          ],
          "heatmap": [
           {
            "colorbar": {
             "outlinewidth": 0,
             "ticks": ""
            },
            "colorscale": [
             [
              0,
              "#0d0887"
             ],
             [
              0.1111111111111111,
              "#46039f"
             ],
             [
              0.2222222222222222,
              "#7201a8"
             ],
             [
              0.3333333333333333,
              "#9c179e"
             ],
             [
              0.4444444444444444,
              "#bd3786"
             ],
             [
              0.5555555555555556,
              "#d8576b"
             ],
             [
              0.6666666666666666,
              "#ed7953"
             ],
             [
              0.7777777777777778,
              "#fb9f3a"
             ],
             [
              0.8888888888888888,
              "#fdca26"
             ],
             [
              1,
              "#f0f921"
             ]
            ],
            "type": "heatmap"
           }
          ],
          "heatmapgl": [
           {
            "colorbar": {
             "outlinewidth": 0,
             "ticks": ""
            },
            "colorscale": [
             [
              0,
              "#0d0887"
             ],
             [
              0.1111111111111111,
              "#46039f"
             ],
             [
              0.2222222222222222,
              "#7201a8"
             ],
             [
              0.3333333333333333,
              "#9c179e"
             ],
             [
              0.4444444444444444,
              "#bd3786"
             ],
             [
              0.5555555555555556,
              "#d8576b"
             ],
             [
              0.6666666666666666,
              "#ed7953"
             ],
             [
              0.7777777777777778,
              "#fb9f3a"
             ],
             [
              0.8888888888888888,
              "#fdca26"
             ],
             [
              1,
              "#f0f921"
             ]
            ],
            "type": "heatmapgl"
           }
          ],
          "histogram": [
           {
            "marker": {
             "pattern": {
              "fillmode": "overlay",
              "size": 10,
              "solidity": 0.2
             }
            },
            "type": "histogram"
           }
          ],
          "histogram2d": [
           {
            "colorbar": {
             "outlinewidth": 0,
             "ticks": ""
            },
            "colorscale": [
             [
              0,
              "#0d0887"
             ],
             [
              0.1111111111111111,
              "#46039f"
             ],
             [
              0.2222222222222222,
              "#7201a8"
             ],
             [
              0.3333333333333333,
              "#9c179e"
             ],
             [
              0.4444444444444444,
              "#bd3786"
             ],
             [
              0.5555555555555556,
              "#d8576b"
             ],
             [
              0.6666666666666666,
              "#ed7953"
             ],
             [
              0.7777777777777778,
              "#fb9f3a"
             ],
             [
              0.8888888888888888,
              "#fdca26"
             ],
             [
              1,
              "#f0f921"
             ]
            ],
            "type": "histogram2d"
           }
          ],
          "histogram2dcontour": [
           {
            "colorbar": {
             "outlinewidth": 0,
             "ticks": ""
            },
            "colorscale": [
             [
              0,
              "#0d0887"
             ],
             [
              0.1111111111111111,
              "#46039f"
             ],
             [
              0.2222222222222222,
              "#7201a8"
             ],
             [
              0.3333333333333333,
              "#9c179e"
             ],
             [
              0.4444444444444444,
              "#bd3786"
             ],
             [
              0.5555555555555556,
              "#d8576b"
             ],
             [
              0.6666666666666666,
              "#ed7953"
             ],
             [
              0.7777777777777778,
              "#fb9f3a"
             ],
             [
              0.8888888888888888,
              "#fdca26"
             ],
             [
              1,
              "#f0f921"
             ]
            ],
            "type": "histogram2dcontour"
           }
          ],
          "mesh3d": [
           {
            "colorbar": {
             "outlinewidth": 0,
             "ticks": ""
            },
            "type": "mesh3d"
           }
          ],
          "parcoords": [
           {
            "line": {
             "colorbar": {
              "outlinewidth": 0,
              "ticks": ""
             }
            },
            "type": "parcoords"
           }
          ],
          "pie": [
           {
            "automargin": true,
            "type": "pie"
           }
          ],
          "scatter": [
           {
            "fillpattern": {
             "fillmode": "overlay",
             "size": 10,
             "solidity": 0.2
            },
            "type": "scatter"
           }
          ],
          "scatter3d": [
           {
            "line": {
             "colorbar": {
              "outlinewidth": 0,
              "ticks": ""
             }
            },
            "marker": {
             "colorbar": {
              "outlinewidth": 0,
              "ticks": ""
             }
            },
            "type": "scatter3d"
           }
          ],
          "scattercarpet": [
           {
            "marker": {
             "colorbar": {
              "outlinewidth": 0,
              "ticks": ""
             }
            },
            "type": "scattercarpet"
           }
          ],
          "scattergeo": [
           {
            "marker": {
             "colorbar": {
              "outlinewidth": 0,
              "ticks": ""
             }
            },
            "type": "scattergeo"
           }
          ],
          "scattergl": [
           {
            "marker": {
             "colorbar": {
              "outlinewidth": 0,
              "ticks": ""
             }
            },
            "type": "scattergl"
           }
          ],
          "scattermapbox": [
           {
            "marker": {
             "colorbar": {
              "outlinewidth": 0,
              "ticks": ""
             }
            },
            "type": "scattermapbox"
           }
          ],
          "scatterpolar": [
           {
            "marker": {
             "colorbar": {
              "outlinewidth": 0,
              "ticks": ""
             }
            },
            "type": "scatterpolar"
           }
          ],
          "scatterpolargl": [
           {
            "marker": {
             "colorbar": {
              "outlinewidth": 0,
              "ticks": ""
             }
            },
            "type": "scatterpolargl"
           }
          ],
          "scatterternary": [
           {
            "marker": {
             "colorbar": {
              "outlinewidth": 0,
              "ticks": ""
             }
            },
            "type": "scatterternary"
           }
          ],
          "surface": [
           {
            "colorbar": {
             "outlinewidth": 0,
             "ticks": ""
            },
            "colorscale": [
             [
              0,
              "#0d0887"
             ],
             [
              0.1111111111111111,
              "#46039f"
             ],
             [
              0.2222222222222222,
              "#7201a8"
             ],
             [
              0.3333333333333333,
              "#9c179e"
             ],
             [
              0.4444444444444444,
              "#bd3786"
             ],
             [
              0.5555555555555556,
              "#d8576b"
             ],
             [
              0.6666666666666666,
              "#ed7953"
             ],
             [
              0.7777777777777778,
              "#fb9f3a"
             ],
             [
              0.8888888888888888,
              "#fdca26"
             ],
             [
              1,
              "#f0f921"
             ]
            ],
            "type": "surface"
           }
          ],
          "table": [
           {
            "cells": {
             "fill": {
              "color": "#EBF0F8"
             },
             "line": {
              "color": "white"
             }
            },
            "header": {
             "fill": {
              "color": "#C8D4E3"
             },
             "line": {
              "color": "white"
             }
            },
            "type": "table"
           }
          ]
         },
         "layout": {
          "annotationdefaults": {
           "arrowcolor": "#2a3f5f",
           "arrowhead": 0,
           "arrowwidth": 1
          },
          "autotypenumbers": "strict",
          "coloraxis": {
           "colorbar": {
            "outlinewidth": 0,
            "ticks": ""
           }
          },
          "colorscale": {
           "diverging": [
            [
             0,
             "#8e0152"
            ],
            [
             0.1,
             "#c51b7d"
            ],
            [
             0.2,
             "#de77ae"
            ],
            [
             0.3,
             "#f1b6da"
            ],
            [
             0.4,
             "#fde0ef"
            ],
            [
             0.5,
             "#f7f7f7"
            ],
            [
             0.6,
             "#e6f5d0"
            ],
            [
             0.7,
             "#b8e186"
            ],
            [
             0.8,
             "#7fbc41"
            ],
            [
             0.9,
             "#4d9221"
            ],
            [
             1,
             "#276419"
            ]
           ],
           "sequential": [
            [
             0,
             "#0d0887"
            ],
            [
             0.1111111111111111,
             "#46039f"
            ],
            [
             0.2222222222222222,
             "#7201a8"
            ],
            [
             0.3333333333333333,
             "#9c179e"
            ],
            [
             0.4444444444444444,
             "#bd3786"
            ],
            [
             0.5555555555555556,
             "#d8576b"
            ],
            [
             0.6666666666666666,
             "#ed7953"
            ],
            [
             0.7777777777777778,
             "#fb9f3a"
            ],
            [
             0.8888888888888888,
             "#fdca26"
            ],
            [
             1,
             "#f0f921"
            ]
           ],
           "sequentialminus": [
            [
             0,
             "#0d0887"
            ],
            [
             0.1111111111111111,
             "#46039f"
            ],
            [
             0.2222222222222222,
             "#7201a8"
            ],
            [
             0.3333333333333333,
             "#9c179e"
            ],
            [
             0.4444444444444444,
             "#bd3786"
            ],
            [
             0.5555555555555556,
             "#d8576b"
            ],
            [
             0.6666666666666666,
             "#ed7953"
            ],
            [
             0.7777777777777778,
             "#fb9f3a"
            ],
            [
             0.8888888888888888,
             "#fdca26"
            ],
            [
             1,
             "#f0f921"
            ]
           ]
          },
          "colorway": [
           "#636efa",
           "#EF553B",
           "#00cc96",
           "#ab63fa",
           "#FFA15A",
           "#19d3f3",
           "#FF6692",
           "#B6E880",
           "#FF97FF",
           "#FECB52"
          ],
          "font": {
           "color": "#2a3f5f"
          },
          "geo": {
           "bgcolor": "white",
           "lakecolor": "white",
           "landcolor": "#E5ECF6",
           "showlakes": true,
           "showland": true,
           "subunitcolor": "white"
          },
          "hoverlabel": {
           "align": "left"
          },
          "hovermode": "closest",
          "mapbox": {
           "style": "light"
          },
          "paper_bgcolor": "white",
          "plot_bgcolor": "#E5ECF6",
          "polar": {
           "angularaxis": {
            "gridcolor": "white",
            "linecolor": "white",
            "ticks": ""
           },
           "bgcolor": "#E5ECF6",
           "radialaxis": {
            "gridcolor": "white",
            "linecolor": "white",
            "ticks": ""
           }
          },
          "scene": {
           "xaxis": {
            "backgroundcolor": "#E5ECF6",
            "gridcolor": "white",
            "gridwidth": 2,
            "linecolor": "white",
            "showbackground": true,
            "ticks": "",
            "zerolinecolor": "white"
           },
           "yaxis": {
            "backgroundcolor": "#E5ECF6",
            "gridcolor": "white",
            "gridwidth": 2,
            "linecolor": "white",
            "showbackground": true,
            "ticks": "",
            "zerolinecolor": "white"
           },
           "zaxis": {
            "backgroundcolor": "#E5ECF6",
            "gridcolor": "white",
            "gridwidth": 2,
            "linecolor": "white",
            "showbackground": true,
            "ticks": "",
            "zerolinecolor": "white"
           }
          },
          "shapedefaults": {
           "line": {
            "color": "#2a3f5f"
           }
          },
          "ternary": {
           "aaxis": {
            "gridcolor": "white",
            "linecolor": "white",
            "ticks": ""
           },
           "baxis": {
            "gridcolor": "white",
            "linecolor": "white",
            "ticks": ""
           },
           "bgcolor": "#E5ECF6",
           "caxis": {
            "gridcolor": "white",
            "linecolor": "white",
            "ticks": ""
           }
          },
          "title": {
           "x": 0.05
          },
          "xaxis": {
           "automargin": true,
           "gridcolor": "white",
           "linecolor": "white",
           "ticks": "",
           "title": {
            "standoff": 15
           },
           "zerolinecolor": "white",
           "zerolinewidth": 2
          },
          "yaxis": {
           "automargin": true,
           "gridcolor": "white",
           "linecolor": "white",
           "ticks": "",
           "title": {
            "standoff": 15
           },
           "zerolinecolor": "white",
           "zerolinewidth": 2
          }
         }
        },
        "title": {
         "text": "TOP 10 PELÍCULAS CON MAYOR DURACIÓN",
         "x": 0.5
        },
        "xaxis": {
         "anchor": "y",
         "categoryarray": [
          "Lo que el viento se llevó",
          "Érase una vez en América",
          "Lawrence de Arabia",
          "Ben-Hur",
          "Los siete samuráis",
          "El padrino (parte II)",
          "El señor de los anillos: El retorno del rey",
          "La Lista de Schindler",
          "Milagros inesperados",
          "Barry Lyndon"
         ],
         "categoryorder": "array",
         "domain": [
          0,
          1
         ],
         "title": {
          "text": "Título Película"
         }
        },
        "yaxis": {
         "anchor": "x",
         "domain": [
          0,
          1
         ],
         "title": {
          "text": "Duración (Minutos)"
         }
        }
       }
      }
     },
     "metadata": {},
     "output_type": "display_data"
    }
   ],
   "source": [
    "# 2: Top 5 Películas con mayor duración\n",
    "top_10_peliculas = dataset_movies.sort_values(by=\"Total Duration Minutes\",ascending=False).head(10)\n",
    "hist_plot = px.histogram(data_frame=top_10_peliculas,x=\"Title Movie\",y=\"Duration Minutes\",color=\"Title Movie\")\n",
    "hist_plot.update_layout(\n",
    "    title = \"TOP 10 PELÍCULAS CON MAYOR DURACIÓN\",\n",
    "    title_x = 0.5,\n",
    "    showlegend = False,\n",
    "    xaxis_title = \"Título Película\",\n",
    "    yaxis_title = \"Duración (Minutos)\",\n",
    "    hoverlabel = dict(\n",
    "        bgcolor = \"green\"\n",
    "    )\n",
    ")\n",
    "hist_plot.update_traces(\n",
    "    hovertemplate = \"Duración (Minutos): %{y}<br>Título:%{x}<extra></extra>\"\n",
    ")\n",
    "hist_plot.show()\n"
   ]
  },
  {
   "cell_type": "code",
   "execution_count": 181,
   "metadata": {},
   "outputs": [
    {
     "data": {
      "application/vnd.plotly.v1+json": {
       "config": {
        "plotlyServerURL": "https://plot.ly"
       },
       "data": [
        {
         "hovertemplate": "Cantidad Votos:%{y}<br>Calificación Estrellas:%{x}<extra></extra>",
         "legendgroup": "",
         "marker": {
          "color": "#636efa",
          "size": [
           3,
           2.1,
           3,
           1.4,
           0.918,
           2.1,
           1.5,
           2.3,
           2.1,
           0.848,
           2.4,
           1.9,
           2.4,
           2.7,
           1.4,
           2.1,
           1.3,
           1.1,
           2.3,
           1.9,
           0.525,
           0.382,
           1.6,
           1.6,
           0.833,
           1.5,
           0.773,
           1.2,
           1.5,
           1.4,
           0.901,
           0.962,
           1.7,
           1,
           0.748,
           1.2,
           0.343,
           1.5,
           1.1,
           0.078,
           1.2,
           1.5,
           1.3,
           0.444,
           0.628,
           1.2,
           0.972,
           0.299,
           0.271,
           1,
           0.543,
           0.366,
           1.8,
           0.206,
           0.738,
           0.615,
           1.4,
           1.3,
           1.1,
           0.426,
           1.3,
           0.247,
           0.723,
           0.225,
           0.149,
           1.2,
           0.248,
           0.145,
           0.805,
           1.7,
           1.9,
           0.642,
           0.446,
           1.1,
           1.3,
           1.1,
           0.673,
           0.536,
           1.2,
           0.278,
           1.1,
           0.456,
           0.352,
           0.059,
           0.455,
           1.6,
           0.393,
           0.115,
           0.271,
           0.11,
           0.934,
           0.926,
           1.2,
           0.385,
           1.1,
           0.095,
           0.749,
           1.1,
           0.208,
           0.224,
           0.327,
           0.957,
           0.174,
           0.359,
           0.75,
           0.479,
           1.2,
           0.176,
           0.817,
           0.443,
           0.815,
           0.907,
           0.268,
           0.342,
           0.985,
           0.289,
           0.868,
           0.216,
           0.835,
           0.193,
           0.941,
           0.721,
           0.638,
           0.184,
           0.387,
           0.223,
           0.971,
           0.126,
           1.7,
           1.6,
           0.628,
           0.286,
           1.3,
           0.091,
           0.293,
           1.5,
           0.14,
           0.211,
           0.144,
           1.1,
           0.667,
           0.588,
           1.1,
           0.142,
           0.764,
           1.1,
           0.494,
           0.722,
           0.452,
           1,
           1.2,
           0.137,
           0.863,
           0.137,
           1.2,
           0.267,
           0.478,
           0.585,
           0.271,
           0.197,
           0.345,
           0.188,
           0.212,
           0.363,
           0.231,
           0.633,
           1.2,
           0.86,
           0.579,
           0.154,
           0.241,
           0.746,
           1.2,
           0.394,
           0.097,
           0.752,
           0.512,
           0.99,
           0.836,
           0.743,
           0.403,
           1.2,
           0.94,
           0.262,
           0.085,
           0.192,
           0.761,
           0.356,
           0.586,
           0.85,
           0.921,
           0.631,
           1.1,
           0.238,
           0.195,
           1,
           0.877,
           0.123,
           0.227,
           0.837,
           0.061,
           0.69,
           0.195,
           0.374,
           0.102,
           0.516,
           0.07,
           0.171,
           0.125,
           0.12,
           0.884,
           0.656,
           0.189,
           0.073,
           0.065,
           0.886,
           0.517,
           0.959,
           0.207,
           0.466,
           1.3,
           0.21,
           0.382,
           0.224,
           0.454,
           0.3,
           0.074,
           0.475,
           0.064,
           0.448,
           0.849,
           0.274,
           0.531,
           0.326,
           0.461,
           0.178,
           0.097,
           0.031,
           0.186,
           0.242,
           0.046,
           0.07,
           0.676,
           0.104,
           0.713,
           0.117,
           0.51,
           0.262,
           0.154,
           0.1
          ],
          "sizemode": "area",
          "sizeref": 0.0075,
          "symbol": "circle"
         },
         "mode": "markers",
         "name": "",
         "orientation": "v",
         "showlegend": false,
         "type": "scatter",
         "x": [
          9.3,
          9.2,
          9,
          9,
          9,
          9,
          9,
          8.9,
          8.9,
          8.8,
          8.8,
          8.8,
          8.8,
          8.8,
          8.7,
          8.7,
          8.7,
          8.7,
          8.7,
          8.6,
          8.6,
          8.6,
          8.6,
          8.6,
          8.6,
          8.6,
          8.6,
          8.6,
          8.6,
          8.5,
          8.6,
          8.5,
          8.5,
          8.5,
          8.5,
          8.5,
          8.5,
          8.5,
          8.5,
          8.6,
          8.5,
          8.5,
          8.5,
          8.5,
          8.5,
          8.5,
          8.5,
          8.5,
          8.5,
          8.5,
          8.5,
          8.5,
          8.5,
          8.5,
          8.4,
          8.5,
          8.4,
          8.4,
          8.4,
          8.4,
          8.4,
          8.4,
          8.4,
          8.4,
          8.4,
          8.4,
          8.4,
          8.8,
          8.4,
          8.4,
          8.4,
          8.4,
          8.4,
          8.3,
          8.4,
          8.3,
          8.3,
          8.3,
          8.3,
          8.4,
          8.3,
          8.3,
          8.4,
          8.4,
          8.4,
          8.3,
          8.3,
          8.4,
          8.3,
          8.3,
          8.3,
          8.3,
          8.3,
          8.3,
          8.3,
          8.3,
          8.3,
          8.3,
          8.3,
          8.3,
          8.3,
          8.3,
          8.3,
          8.3,
          8.3,
          8.3,
          8.3,
          8.3,
          8.2,
          8.3,
          8.3,
          8.2,
          8.3,
          8.3,
          8.2,
          8.3,
          8.3,
          8.3,
          8.2,
          8.3,
          8.2,
          8.2,
          8.2,
          8.2,
          8.2,
          8.3,
          8.2,
          8.3,
          8.2,
          8.2,
          8.2,
          8.2,
          8.2,
          8.3,
          8.2,
          8.2,
          8.2,
          8.2,
          8.2,
          8.2,
          8.2,
          8.2,
          8.2,
          8.2,
          8.2,
          8.2,
          8.2,
          8.2,
          8.2,
          8.2,
          8.2,
          8.2,
          8.2,
          8.2,
          8.2,
          8.2,
          8.2,
          8.2,
          8.2,
          8.2,
          8.2,
          8.2,
          8.2,
          8.1,
          8.2,
          8.1,
          8.1,
          8.1,
          8.1,
          8.2,
          8.1,
          8.1,
          8.1,
          8.1,
          8.4,
          8.1,
          8.1,
          8.1,
          8.1,
          8.1,
          8.1,
          8.1,
          8.2,
          8.1,
          8.2,
          8.1,
          8.1,
          8.1,
          8.1,
          8.1,
          8.1,
          8.1,
          8.1,
          8.1,
          8.1,
          8.1,
          8.1,
          8.1,
          8.1,
          8.1,
          8.2,
          8.1,
          8.1,
          8.1,
          8.1,
          8.1,
          8.1,
          8.1,
          8.1,
          8.1,
          8.1,
          8.1,
          8.1,
          8.1,
          8.4,
          8.1,
          8.1,
          8.1,
          8.1,
          8.1,
          8.1,
          8.1,
          8.1,
          8.7,
          8.1,
          8.1,
          8.1,
          8.1,
          8.1,
          8.1,
          8,
          8.1,
          8.1,
          8.1,
          8.1,
          8.1,
          8.2,
          8.5,
          8.1,
          8.1,
          8.1,
          8.1,
          8.1,
          8.1,
          8,
          8.1,
          8.1,
          8,
          8.1,
          8.2
         ],
         "xaxis": "x",
         "y": [
          3,
          2.1,
          3,
          1.4,
          0.918,
          2.1,
          1.5,
          2.3,
          2.1,
          0.848,
          2.4,
          1.9,
          2.4,
          2.7,
          1.4,
          2.1,
          1.3,
          1.1,
          2.3,
          1.9,
          0.525,
          0.382,
          1.6,
          1.6,
          0.833,
          1.5,
          0.773,
          1.2,
          1.5,
          1.4,
          0.901,
          0.962,
          1.7,
          1,
          0.748,
          1.2,
          0.343,
          1.5,
          1.1,
          0.078,
          1.2,
          1.5,
          1.3,
          0.444,
          0.628,
          1.2,
          0.972,
          0.299,
          0.271,
          1,
          0.543,
          0.366,
          1.8,
          0.206,
          0.738,
          0.615,
          1.4,
          1.3,
          1.1,
          0.426,
          1.3,
          0.247,
          0.723,
          0.225,
          0.149,
          1.2,
          0.248,
          0.145,
          0.805,
          1.7,
          1.9,
          0.642,
          0.446,
          1.1,
          1.3,
          1.1,
          0.673,
          0.536,
          1.2,
          0.278,
          1.1,
          0.456,
          0.352,
          0.059,
          0.455,
          1.6,
          0.393,
          0.115,
          0.271,
          0.11,
          0.934,
          0.926,
          1.2,
          0.385,
          1.1,
          0.095,
          0.749,
          1.1,
          0.208,
          0.224,
          0.327,
          0.957,
          0.174,
          0.359,
          0.75,
          0.479,
          1.2,
          0.176,
          0.817,
          0.443,
          0.815,
          0.907,
          0.268,
          0.342,
          0.985,
          0.289,
          0.868,
          0.216,
          0.835,
          0.193,
          0.941,
          0.721,
          0.638,
          0.184,
          0.387,
          0.223,
          0.971,
          0.126,
          1.7,
          1.6,
          0.628,
          0.286,
          1.3,
          0.091,
          0.293,
          1.5,
          0.14,
          0.211,
          0.144,
          1.1,
          0.667,
          0.588,
          1.1,
          0.142,
          0.764,
          1.1,
          0.494,
          0.722,
          0.452,
          1,
          1.2,
          0.137,
          0.863,
          0.137,
          1.2,
          0.267,
          0.478,
          0.585,
          0.271,
          0.197,
          0.345,
          0.188,
          0.212,
          0.363,
          0.231,
          0.633,
          1.2,
          0.86,
          0.579,
          0.154,
          0.241,
          0.746,
          1.2,
          0.394,
          0.097,
          0.752,
          0.512,
          0.99,
          0.836,
          0.743,
          0.403,
          1.2,
          0.94,
          0.262,
          0.085,
          0.192,
          0.761,
          0.356,
          0.586,
          0.85,
          0.921,
          0.631,
          1.1,
          0.238,
          0.195,
          1,
          0.877,
          0.123,
          0.227,
          0.837,
          0.061,
          0.69,
          0.195,
          0.374,
          0.102,
          0.516,
          0.07,
          0.171,
          0.125,
          0.12,
          0.884,
          0.656,
          0.189,
          0.073,
          0.065,
          0.886,
          0.517,
          0.959,
          0.207,
          0.466,
          1.3,
          0.21,
          0.382,
          0.224,
          0.454,
          0.3,
          0.074,
          0.475,
          0.064,
          0.448,
          0.849,
          0.274,
          0.531,
          0.326,
          0.461,
          0.178,
          0.097,
          0.031,
          0.186,
          0.242,
          0.046,
          0.07,
          0.676,
          0.104,
          0.713,
          0.117,
          0.51,
          0.262,
          0.154,
          0.1
         ],
         "yaxis": "y"
        }
       ],
       "layout": {
        "hoverlabel": {
         "bgcolor": "green"
        },
        "legend": {
         "itemsizing": "constant",
         "tracegroupgap": 0
        },
        "margin": {
         "t": 60
        },
        "template": {
         "data": {
          "bar": [
           {
            "error_x": {
             "color": "#2a3f5f"
            },
            "error_y": {
             "color": "#2a3f5f"
            },
            "marker": {
             "line": {
              "color": "#E5ECF6",
              "width": 0.5
             },
             "pattern": {
              "fillmode": "overlay",
              "size": 10,
              "solidity": 0.2
             }
            },
            "type": "bar"
           }
          ],
          "barpolar": [
           {
            "marker": {
             "line": {
              "color": "#E5ECF6",
              "width": 0.5
             },
             "pattern": {
              "fillmode": "overlay",
              "size": 10,
              "solidity": 0.2
             }
            },
            "type": "barpolar"
           }
          ],
          "carpet": [
           {
            "aaxis": {
             "endlinecolor": "#2a3f5f",
             "gridcolor": "white",
             "linecolor": "white",
             "minorgridcolor": "white",
             "startlinecolor": "#2a3f5f"
            },
            "baxis": {
             "endlinecolor": "#2a3f5f",
             "gridcolor": "white",
             "linecolor": "white",
             "minorgridcolor": "white",
             "startlinecolor": "#2a3f5f"
            },
            "type": "carpet"
           }
          ],
          "choropleth": [
           {
            "colorbar": {
             "outlinewidth": 0,
             "ticks": ""
            },
            "type": "choropleth"
           }
          ],
          "contour": [
           {
            "colorbar": {
             "outlinewidth": 0,
             "ticks": ""
            },
            "colorscale": [
             [
              0,
              "#0d0887"
             ],
             [
              0.1111111111111111,
              "#46039f"
             ],
             [
              0.2222222222222222,
              "#7201a8"
             ],
             [
              0.3333333333333333,
              "#9c179e"
             ],
             [
              0.4444444444444444,
              "#bd3786"
             ],
             [
              0.5555555555555556,
              "#d8576b"
             ],
             [
              0.6666666666666666,
              "#ed7953"
             ],
             [
              0.7777777777777778,
              "#fb9f3a"
             ],
             [
              0.8888888888888888,
              "#fdca26"
             ],
             [
              1,
              "#f0f921"
             ]
            ],
            "type": "contour"
           }
          ],
          "contourcarpet": [
           {
            "colorbar": {
             "outlinewidth": 0,
             "ticks": ""
            },
            "type": "contourcarpet"
           }
          ],
          "heatmap": [
           {
            "colorbar": {
             "outlinewidth": 0,
             "ticks": ""
            },
            "colorscale": [
             [
              0,
              "#0d0887"
             ],
             [
              0.1111111111111111,
              "#46039f"
             ],
             [
              0.2222222222222222,
              "#7201a8"
             ],
             [
              0.3333333333333333,
              "#9c179e"
             ],
             [
              0.4444444444444444,
              "#bd3786"
             ],
             [
              0.5555555555555556,
              "#d8576b"
             ],
             [
              0.6666666666666666,
              "#ed7953"
             ],
             [
              0.7777777777777778,
              "#fb9f3a"
             ],
             [
              0.8888888888888888,
              "#fdca26"
             ],
             [
              1,
              "#f0f921"
             ]
            ],
            "type": "heatmap"
           }
          ],
          "heatmapgl": [
           {
            "colorbar": {
             "outlinewidth": 0,
             "ticks": ""
            },
            "colorscale": [
             [
              0,
              "#0d0887"
             ],
             [
              0.1111111111111111,
              "#46039f"
             ],
             [
              0.2222222222222222,
              "#7201a8"
             ],
             [
              0.3333333333333333,
              "#9c179e"
             ],
             [
              0.4444444444444444,
              "#bd3786"
             ],
             [
              0.5555555555555556,
              "#d8576b"
             ],
             [
              0.6666666666666666,
              "#ed7953"
             ],
             [
              0.7777777777777778,
              "#fb9f3a"
             ],
             [
              0.8888888888888888,
              "#fdca26"
             ],
             [
              1,
              "#f0f921"
             ]
            ],
            "type": "heatmapgl"
           }
          ],
          "histogram": [
           {
            "marker": {
             "pattern": {
              "fillmode": "overlay",
              "size": 10,
              "solidity": 0.2
             }
            },
            "type": "histogram"
           }
          ],
          "histogram2d": [
           {
            "colorbar": {
             "outlinewidth": 0,
             "ticks": ""
            },
            "colorscale": [
             [
              0,
              "#0d0887"
             ],
             [
              0.1111111111111111,
              "#46039f"
             ],
             [
              0.2222222222222222,
              "#7201a8"
             ],
             [
              0.3333333333333333,
              "#9c179e"
             ],
             [
              0.4444444444444444,
              "#bd3786"
             ],
             [
              0.5555555555555556,
              "#d8576b"
             ],
             [
              0.6666666666666666,
              "#ed7953"
             ],
             [
              0.7777777777777778,
              "#fb9f3a"
             ],
             [
              0.8888888888888888,
              "#fdca26"
             ],
             [
              1,
              "#f0f921"
             ]
            ],
            "type": "histogram2d"
           }
          ],
          "histogram2dcontour": [
           {
            "colorbar": {
             "outlinewidth": 0,
             "ticks": ""
            },
            "colorscale": [
             [
              0,
              "#0d0887"
             ],
             [
              0.1111111111111111,
              "#46039f"
             ],
             [
              0.2222222222222222,
              "#7201a8"
             ],
             [
              0.3333333333333333,
              "#9c179e"
             ],
             [
              0.4444444444444444,
              "#bd3786"
             ],
             [
              0.5555555555555556,
              "#d8576b"
             ],
             [
              0.6666666666666666,
              "#ed7953"
             ],
             [
              0.7777777777777778,
              "#fb9f3a"
             ],
             [
              0.8888888888888888,
              "#fdca26"
             ],
             [
              1,
              "#f0f921"
             ]
            ],
            "type": "histogram2dcontour"
           }
          ],
          "mesh3d": [
           {
            "colorbar": {
             "outlinewidth": 0,
             "ticks": ""
            },
            "type": "mesh3d"
           }
          ],
          "parcoords": [
           {
            "line": {
             "colorbar": {
              "outlinewidth": 0,
              "ticks": ""
             }
            },
            "type": "parcoords"
           }
          ],
          "pie": [
           {
            "automargin": true,
            "type": "pie"
           }
          ],
          "scatter": [
           {
            "fillpattern": {
             "fillmode": "overlay",
             "size": 10,
             "solidity": 0.2
            },
            "type": "scatter"
           }
          ],
          "scatter3d": [
           {
            "line": {
             "colorbar": {
              "outlinewidth": 0,
              "ticks": ""
             }
            },
            "marker": {
             "colorbar": {
              "outlinewidth": 0,
              "ticks": ""
             }
            },
            "type": "scatter3d"
           }
          ],
          "scattercarpet": [
           {
            "marker": {
             "colorbar": {
              "outlinewidth": 0,
              "ticks": ""
             }
            },
            "type": "scattercarpet"
           }
          ],
          "scattergeo": [
           {
            "marker": {
             "colorbar": {
              "outlinewidth": 0,
              "ticks": ""
             }
            },
            "type": "scattergeo"
           }
          ],
          "scattergl": [
           {
            "marker": {
             "colorbar": {
              "outlinewidth": 0,
              "ticks": ""
             }
            },
            "type": "scattergl"
           }
          ],
          "scattermapbox": [
           {
            "marker": {
             "colorbar": {
              "outlinewidth": 0,
              "ticks": ""
             }
            },
            "type": "scattermapbox"
           }
          ],
          "scatterpolar": [
           {
            "marker": {
             "colorbar": {
              "outlinewidth": 0,
              "ticks": ""
             }
            },
            "type": "scatterpolar"
           }
          ],
          "scatterpolargl": [
           {
            "marker": {
             "colorbar": {
              "outlinewidth": 0,
              "ticks": ""
             }
            },
            "type": "scatterpolargl"
           }
          ],
          "scatterternary": [
           {
            "marker": {
             "colorbar": {
              "outlinewidth": 0,
              "ticks": ""
             }
            },
            "type": "scatterternary"
           }
          ],
          "surface": [
           {
            "colorbar": {
             "outlinewidth": 0,
             "ticks": ""
            },
            "colorscale": [
             [
              0,
              "#0d0887"
             ],
             [
              0.1111111111111111,
              "#46039f"
             ],
             [
              0.2222222222222222,
              "#7201a8"
             ],
             [
              0.3333333333333333,
              "#9c179e"
             ],
             [
              0.4444444444444444,
              "#bd3786"
             ],
             [
              0.5555555555555556,
              "#d8576b"
             ],
             [
              0.6666666666666666,
              "#ed7953"
             ],
             [
              0.7777777777777778,
              "#fb9f3a"
             ],
             [
              0.8888888888888888,
              "#fdca26"
             ],
             [
              1,
              "#f0f921"
             ]
            ],
            "type": "surface"
           }
          ],
          "table": [
           {
            "cells": {
             "fill": {
              "color": "#EBF0F8"
             },
             "line": {
              "color": "white"
             }
            },
            "header": {
             "fill": {
              "color": "#C8D4E3"
             },
             "line": {
              "color": "white"
             }
            },
            "type": "table"
           }
          ]
         },
         "layout": {
          "annotationdefaults": {
           "arrowcolor": "#2a3f5f",
           "arrowhead": 0,
           "arrowwidth": 1
          },
          "autotypenumbers": "strict",
          "coloraxis": {
           "colorbar": {
            "outlinewidth": 0,
            "ticks": ""
           }
          },
          "colorscale": {
           "diverging": [
            [
             0,
             "#8e0152"
            ],
            [
             0.1,
             "#c51b7d"
            ],
            [
             0.2,
             "#de77ae"
            ],
            [
             0.3,
             "#f1b6da"
            ],
            [
             0.4,
             "#fde0ef"
            ],
            [
             0.5,
             "#f7f7f7"
            ],
            [
             0.6,
             "#e6f5d0"
            ],
            [
             0.7,
             "#b8e186"
            ],
            [
             0.8,
             "#7fbc41"
            ],
            [
             0.9,
             "#4d9221"
            ],
            [
             1,
             "#276419"
            ]
           ],
           "sequential": [
            [
             0,
             "#0d0887"
            ],
            [
             0.1111111111111111,
             "#46039f"
            ],
            [
             0.2222222222222222,
             "#7201a8"
            ],
            [
             0.3333333333333333,
             "#9c179e"
            ],
            [
             0.4444444444444444,
             "#bd3786"
            ],
            [
             0.5555555555555556,
             "#d8576b"
            ],
            [
             0.6666666666666666,
             "#ed7953"
            ],
            [
             0.7777777777777778,
             "#fb9f3a"
            ],
            [
             0.8888888888888888,
             "#fdca26"
            ],
            [
             1,
             "#f0f921"
            ]
           ],
           "sequentialminus": [
            [
             0,
             "#0d0887"
            ],
            [
             0.1111111111111111,
             "#46039f"
            ],
            [
             0.2222222222222222,
             "#7201a8"
            ],
            [
             0.3333333333333333,
             "#9c179e"
            ],
            [
             0.4444444444444444,
             "#bd3786"
            ],
            [
             0.5555555555555556,
             "#d8576b"
            ],
            [
             0.6666666666666666,
             "#ed7953"
            ],
            [
             0.7777777777777778,
             "#fb9f3a"
            ],
            [
             0.8888888888888888,
             "#fdca26"
            ],
            [
             1,
             "#f0f921"
            ]
           ]
          },
          "colorway": [
           "#636efa",
           "#EF553B",
           "#00cc96",
           "#ab63fa",
           "#FFA15A",
           "#19d3f3",
           "#FF6692",
           "#B6E880",
           "#FF97FF",
           "#FECB52"
          ],
          "font": {
           "color": "#2a3f5f"
          },
          "geo": {
           "bgcolor": "white",
           "lakecolor": "white",
           "landcolor": "#E5ECF6",
           "showlakes": true,
           "showland": true,
           "subunitcolor": "white"
          },
          "hoverlabel": {
           "align": "left"
          },
          "hovermode": "closest",
          "mapbox": {
           "style": "light"
          },
          "paper_bgcolor": "white",
          "plot_bgcolor": "#E5ECF6",
          "polar": {
           "angularaxis": {
            "gridcolor": "white",
            "linecolor": "white",
            "ticks": ""
           },
           "bgcolor": "#E5ECF6",
           "radialaxis": {
            "gridcolor": "white",
            "linecolor": "white",
            "ticks": ""
           }
          },
          "scene": {
           "xaxis": {
            "backgroundcolor": "#E5ECF6",
            "gridcolor": "white",
            "gridwidth": 2,
            "linecolor": "white",
            "showbackground": true,
            "ticks": "",
            "zerolinecolor": "white"
           },
           "yaxis": {
            "backgroundcolor": "#E5ECF6",
            "gridcolor": "white",
            "gridwidth": 2,
            "linecolor": "white",
            "showbackground": true,
            "ticks": "",
            "zerolinecolor": "white"
           },
           "zaxis": {
            "backgroundcolor": "#E5ECF6",
            "gridcolor": "white",
            "gridwidth": 2,
            "linecolor": "white",
            "showbackground": true,
            "ticks": "",
            "zerolinecolor": "white"
           }
          },
          "shapedefaults": {
           "line": {
            "color": "#2a3f5f"
           }
          },
          "ternary": {
           "aaxis": {
            "gridcolor": "white",
            "linecolor": "white",
            "ticks": ""
           },
           "baxis": {
            "gridcolor": "white",
            "linecolor": "white",
            "ticks": ""
           },
           "bgcolor": "#E5ECF6",
           "caxis": {
            "gridcolor": "white",
            "linecolor": "white",
            "ticks": ""
           }
          },
          "title": {
           "x": 0.05
          },
          "xaxis": {
           "automargin": true,
           "gridcolor": "white",
           "linecolor": "white",
           "ticks": "",
           "title": {
            "standoff": 15
           },
           "zerolinecolor": "white",
           "zerolinewidth": 2
          },
          "yaxis": {
           "automargin": true,
           "gridcolor": "white",
           "linecolor": "white",
           "ticks": "",
           "title": {
            "standoff": 15
           },
           "zerolinecolor": "white",
           "zerolinewidth": 2
          }
         }
        },
        "title": {
         "text": "Star Rating vs Star Vote"
        },
        "xaxis": {
         "anchor": "y",
         "domain": [
          0,
          1
         ],
         "title": {
          "text": "Calificación Estrellas"
         }
        },
        "yaxis": {
         "anchor": "x",
         "domain": [
          0,
          1
         ],
         "title": {
          "text": "Cantidad Votos (Millones)"
         }
        }
       }
      }
     },
     "metadata": {},
     "output_type": "display_data"
    }
   ],
   "source": [
    "# 3: Relación entre Votos y Calificación de Películas\n",
    "scatter_plot = px.scatter(data_frame=dataset_movies,x=\"Star Rating Movie\",y=\"Star Vote Count Movie (M)\",size=\"Star Vote Count Movie (M)\",)\n",
    "scatter_plot.update_layout(\n",
    "    title = \"Star Rating vs Star Vote\",\n",
    "    xaxis_title = \"Calificación Estrellas\",\n",
    "    yaxis_title = \"Cantidad Votos (Millones)\",\n",
    "    hoverlabel = dict(\n",
    "        bgcolor = \"green\"\n",
    "    )\n",
    ")\n",
    "scatter_plot.update_traces(\n",
    "    hovertemplate = \"Cantidad Votos:%{y}<br>Calificación Estrellas:%{x}<extra></extra>\"\n",
    ")\n",
    "scatter_plot.show()"
   ]
  },
  {
   "cell_type": "code",
   "execution_count": 182,
   "metadata": {},
   "outputs": [
    {
     "data": {
      "application/vnd.plotly.v1+json": {
       "config": {
        "plotlyServerURL": "https://plot.ly"
       },
       "data": [
        {
         "alignmentgroup": "True",
         "hovertemplate": "Cantidad:%{y}<br>Clasificación:%{x}<extra></extra>",
         "legendgroup": "0+",
         "marker": {
          "color": "#636efa",
          "pattern": {
           "shape": ""
          }
         },
         "name": "0+",
         "offsetgroup": "0+",
         "orientation": "v",
         "showlegend": true,
         "textposition": "auto",
         "type": "bar",
         "x": [
          "0+"
         ],
         "xaxis": "x",
         "y": [
          1
         ],
         "yaxis": "y"
        },
        {
         "alignmentgroup": "True",
         "hovertemplate": "Cantidad:%{y}<br>Clasificación:%{x}<extra></extra>",
         "legendgroup": "12+",
         "marker": {
          "color": "#EF553B",
          "pattern": {
           "shape": ""
          }
         },
         "name": "12+",
         "offsetgroup": "12+",
         "orientation": "v",
         "showlegend": true,
         "textposition": "auto",
         "type": "bar",
         "x": [
          "12+"
         ],
         "xaxis": "x",
         "y": [
          1
         ],
         "yaxis": "y"
        },
        {
         "alignmentgroup": "True",
         "hovertemplate": "Cantidad:%{y}<br>Clasificación:%{x}<extra></extra>",
         "legendgroup": "13",
         "marker": {
          "color": "#00cc96",
          "pattern": {
           "shape": ""
          }
         },
         "name": "13",
         "offsetgroup": "13",
         "orientation": "v",
         "showlegend": true,
         "textposition": "auto",
         "type": "bar",
         "x": [
          "13"
         ],
         "xaxis": "x",
         "y": [
          3
         ],
         "yaxis": "y"
        },
        {
         "alignmentgroup": "True",
         "hovertemplate": "Cantidad:%{y}<br>Clasificación:%{x}<extra></extra>",
         "legendgroup": "16",
         "marker": {
          "color": "#ab63fa",
          "pattern": {
           "shape": ""
          }
         },
         "name": "16",
         "offsetgroup": "16",
         "orientation": "v",
         "showlegend": true,
         "textposition": "auto",
         "type": "bar",
         "x": [
          "16"
         ],
         "xaxis": "x",
         "y": [
          2
         ],
         "yaxis": "y"
        },
        {
         "alignmentgroup": "True",
         "hovertemplate": "Cantidad:%{y}<br>Clasificación:%{x}<extra></extra>",
         "legendgroup": "18+",
         "marker": {
          "color": "#FFA15A",
          "pattern": {
           "shape": ""
          }
         },
         "name": "18+",
         "offsetgroup": "18+",
         "orientation": "v",
         "showlegend": true,
         "textposition": "auto",
         "type": "bar",
         "x": [
          "18+"
         ],
         "xaxis": "x",
         "y": [
          2
         ],
         "yaxis": "y"
        },
        {
         "alignmentgroup": "True",
         "hovertemplate": "Cantidad:%{y}<br>Clasificación:%{x}<extra></extra>",
         "legendgroup": "7",
         "marker": {
          "color": "#19d3f3",
          "pattern": {
           "shape": ""
          }
         },
         "name": "7",
         "offsetgroup": "7",
         "orientation": "v",
         "showlegend": true,
         "textposition": "auto",
         "type": "bar",
         "x": [
          "7"
         ],
         "xaxis": "x",
         "y": [
          1
         ],
         "yaxis": "y"
        },
        {
         "alignmentgroup": "True",
         "hovertemplate": "Cantidad:%{y}<br>Clasificación:%{x}<extra></extra>",
         "legendgroup": "A",
         "marker": {
          "color": "#FF6692",
          "pattern": {
           "shape": ""
          }
         },
         "name": "A",
         "offsetgroup": "A",
         "orientation": "v",
         "showlegend": true,
         "textposition": "auto",
         "type": "bar",
         "x": [
          "A"
         ],
         "xaxis": "x",
         "y": [
          38
         ],
         "yaxis": "y"
        },
        {
         "alignmentgroup": "True",
         "hovertemplate": "Cantidad:%{y}<br>Clasificación:%{x}<extra></extra>",
         "legendgroup": "AA",
         "marker": {
          "color": "#B6E880",
          "pattern": {
           "shape": ""
          }
         },
         "name": "AA",
         "offsetgroup": "AA",
         "orientation": "v",
         "showlegend": true,
         "textposition": "auto",
         "type": "bar",
         "x": [
          "AA"
         ],
         "xaxis": "x",
         "y": [
          13
         ],
         "yaxis": "y"
        },
        {
         "alignmentgroup": "True",
         "hovertemplate": "Cantidad:%{y}<br>Clasificación:%{x}<extra></extra>",
         "legendgroup": "Approved",
         "marker": {
          "color": "#FF97FF",
          "pattern": {
           "shape": ""
          }
         },
         "name": "Approved",
         "offsetgroup": "Approved",
         "orientation": "v",
         "showlegend": true,
         "textposition": "auto",
         "type": "bar",
         "x": [
          "Approved"
         ],
         "xaxis": "x",
         "y": [
          6
         ],
         "yaxis": "y"
        },
        {
         "alignmentgroup": "True",
         "hovertemplate": "Cantidad:%{y}<br>Clasificación:%{x}<extra></extra>",
         "legendgroup": "B",
         "marker": {
          "color": "#FECB52",
          "pattern": {
           "shape": ""
          }
         },
         "name": "B",
         "offsetgroup": "B",
         "orientation": "v",
         "showlegend": true,
         "textposition": "auto",
         "type": "bar",
         "x": [
          "B"
         ],
         "xaxis": "x",
         "y": [
          87
         ],
         "yaxis": "y"
        },
        {
         "alignmentgroup": "True",
         "hovertemplate": "Cantidad:%{y}<br>Clasificación:%{x}<extra></extra>",
         "legendgroup": "B-15",
         "marker": {
          "color": "#636efa",
          "pattern": {
           "shape": ""
          }
         },
         "name": "B-15",
         "offsetgroup": "B-15",
         "orientation": "v",
         "showlegend": true,
         "textposition": "auto",
         "type": "bar",
         "x": [
          "B-15"
         ],
         "xaxis": "x",
         "y": [
          3
         ],
         "yaxis": "y"
        },
        {
         "alignmentgroup": "True",
         "hovertemplate": "Cantidad:%{y}<br>Clasificación:%{x}<extra></extra>",
         "legendgroup": "B15",
         "marker": {
          "color": "#EF553B",
          "pattern": {
           "shape": ""
          }
         },
         "name": "B15",
         "offsetgroup": "B15",
         "orientation": "v",
         "showlegend": true,
         "textposition": "auto",
         "type": "bar",
         "x": [
          "B15"
         ],
         "xaxis": "x",
         "y": [
          32
         ],
         "yaxis": "y"
        },
        {
         "alignmentgroup": "True",
         "hovertemplate": "Cantidad:%{y}<br>Clasificación:%{x}<extra></extra>",
         "legendgroup": "C",
         "marker": {
          "color": "#00cc96",
          "pattern": {
           "shape": ""
          }
         },
         "name": "C",
         "offsetgroup": "C",
         "orientation": "v",
         "showlegend": true,
         "textposition": "auto",
         "type": "bar",
         "x": [
          "C"
         ],
         "xaxis": "x",
         "y": [
          43
         ],
         "yaxis": "y"
        },
        {
         "alignmentgroup": "True",
         "hovertemplate": "Cantidad:%{y}<br>Clasificación:%{x}<extra></extra>",
         "legendgroup": "Not Rated",
         "marker": {
          "color": "#ab63fa",
          "pattern": {
           "shape": ""
          }
         },
         "name": "Not Rated",
         "offsetgroup": "Not Rated",
         "orientation": "v",
         "showlegend": true,
         "textposition": "auto",
         "type": "bar",
         "x": [
          "Not Rated"
         ],
         "xaxis": "x",
         "y": [
          4
         ],
         "yaxis": "y"
        },
        {
         "alignmentgroup": "True",
         "hovertemplate": "Cantidad:%{y}<br>Clasificación:%{x}<extra></extra>",
         "legendgroup": "PG",
         "marker": {
          "color": "#FFA15A",
          "pattern": {
           "shape": ""
          }
         },
         "name": "PG",
         "offsetgroup": "PG",
         "orientation": "v",
         "showlegend": true,
         "textposition": "auto",
         "type": "bar",
         "x": [
          "PG"
         ],
         "xaxis": "x",
         "y": [
          5
         ],
         "yaxis": "y"
        },
        {
         "alignmentgroup": "True",
         "hovertemplate": "Cantidad:%{y}<br>Clasificación:%{x}<extra></extra>",
         "legendgroup": "PG-13",
         "marker": {
          "color": "#19d3f3",
          "pattern": {
           "shape": ""
          }
         },
         "name": "PG-13",
         "offsetgroup": "PG-13",
         "orientation": "v",
         "showlegend": true,
         "textposition": "auto",
         "type": "bar",
         "x": [
          "PG-13"
         ],
         "xaxis": "x",
         "y": [
          1
         ],
         "yaxis": "y"
        },
        {
         "alignmentgroup": "True",
         "hovertemplate": "Cantidad:%{y}<br>Clasificación:%{x}<extra></extra>",
         "legendgroup": "Passed",
         "marker": {
          "color": "#FF6692",
          "pattern": {
           "shape": ""
          }
         },
         "name": "Passed",
         "offsetgroup": "Passed",
         "orientation": "v",
         "showlegend": true,
         "textposition": "auto",
         "type": "bar",
         "x": [
          "Passed"
         ],
         "xaxis": "x",
         "y": [
          1
         ],
         "yaxis": "y"
        },
        {
         "alignmentgroup": "True",
         "hovertemplate": "Cantidad:%{y}<br>Clasificación:%{x}<extra></extra>",
         "legendgroup": "R",
         "marker": {
          "color": "#B6E880",
          "pattern": {
           "shape": ""
          }
         },
         "name": "R",
         "offsetgroup": "R",
         "orientation": "v",
         "showlegend": true,
         "textposition": "auto",
         "type": "bar",
         "x": [
          "R"
         ],
         "xaxis": "x",
         "y": [
          3
         ],
         "yaxis": "y"
        },
        {
         "alignmentgroup": "True",
         "hovertemplate": "Cantidad:%{y}<br>Clasificación:%{x}<extra></extra>",
         "legendgroup": "S/C",
         "marker": {
          "color": "#FF97FF",
          "pattern": {
           "shape": ""
          }
         },
         "name": "S/C",
         "offsetgroup": "S/C",
         "orientation": "v",
         "showlegend": true,
         "textposition": "auto",
         "type": "bar",
         "x": [
          "S/C"
         ],
         "xaxis": "x",
         "y": [
          4
         ],
         "yaxis": "y"
        }
       ],
       "layout": {
        "barmode": "relative",
        "hoverlabel": {
         "bgcolor": "blue",
         "font": {
          "color": "white"
         }
        },
        "legend": {
         "title": {
          "text": "Clasification Movie"
         },
         "tracegroupgap": 0
        },
        "margin": {
         "t": 60
        },
        "showlegend": false,
        "template": {
         "data": {
          "bar": [
           {
            "error_x": {
             "color": "#2a3f5f"
            },
            "error_y": {
             "color": "#2a3f5f"
            },
            "marker": {
             "line": {
              "color": "#E5ECF6",
              "width": 0.5
             },
             "pattern": {
              "fillmode": "overlay",
              "size": 10,
              "solidity": 0.2
             }
            },
            "type": "bar"
           }
          ],
          "barpolar": [
           {
            "marker": {
             "line": {
              "color": "#E5ECF6",
              "width": 0.5
             },
             "pattern": {
              "fillmode": "overlay",
              "size": 10,
              "solidity": 0.2
             }
            },
            "type": "barpolar"
           }
          ],
          "carpet": [
           {
            "aaxis": {
             "endlinecolor": "#2a3f5f",
             "gridcolor": "white",
             "linecolor": "white",
             "minorgridcolor": "white",
             "startlinecolor": "#2a3f5f"
            },
            "baxis": {
             "endlinecolor": "#2a3f5f",
             "gridcolor": "white",
             "linecolor": "white",
             "minorgridcolor": "white",
             "startlinecolor": "#2a3f5f"
            },
            "type": "carpet"
           }
          ],
          "choropleth": [
           {
            "colorbar": {
             "outlinewidth": 0,
             "ticks": ""
            },
            "type": "choropleth"
           }
          ],
          "contour": [
           {
            "colorbar": {
             "outlinewidth": 0,
             "ticks": ""
            },
            "colorscale": [
             [
              0,
              "#0d0887"
             ],
             [
              0.1111111111111111,
              "#46039f"
             ],
             [
              0.2222222222222222,
              "#7201a8"
             ],
             [
              0.3333333333333333,
              "#9c179e"
             ],
             [
              0.4444444444444444,
              "#bd3786"
             ],
             [
              0.5555555555555556,
              "#d8576b"
             ],
             [
              0.6666666666666666,
              "#ed7953"
             ],
             [
              0.7777777777777778,
              "#fb9f3a"
             ],
             [
              0.8888888888888888,
              "#fdca26"
             ],
             [
              1,
              "#f0f921"
             ]
            ],
            "type": "contour"
           }
          ],
          "contourcarpet": [
           {
            "colorbar": {
             "outlinewidth": 0,
             "ticks": ""
            },
            "type": "contourcarpet"
           }
          ],
          "heatmap": [
           {
            "colorbar": {
             "outlinewidth": 0,
             "ticks": ""
            },
            "colorscale": [
             [
              0,
              "#0d0887"
             ],
             [
              0.1111111111111111,
              "#46039f"
             ],
             [
              0.2222222222222222,
              "#7201a8"
             ],
             [
              0.3333333333333333,
              "#9c179e"
             ],
             [
              0.4444444444444444,
              "#bd3786"
             ],
             [
              0.5555555555555556,
              "#d8576b"
             ],
             [
              0.6666666666666666,
              "#ed7953"
             ],
             [
              0.7777777777777778,
              "#fb9f3a"
             ],
             [
              0.8888888888888888,
              "#fdca26"
             ],
             [
              1,
              "#f0f921"
             ]
            ],
            "type": "heatmap"
           }
          ],
          "heatmapgl": [
           {
            "colorbar": {
             "outlinewidth": 0,
             "ticks": ""
            },
            "colorscale": [
             [
              0,
              "#0d0887"
             ],
             [
              0.1111111111111111,
              "#46039f"
             ],
             [
              0.2222222222222222,
              "#7201a8"
             ],
             [
              0.3333333333333333,
              "#9c179e"
             ],
             [
              0.4444444444444444,
              "#bd3786"
             ],
             [
              0.5555555555555556,
              "#d8576b"
             ],
             [
              0.6666666666666666,
              "#ed7953"
             ],
             [
              0.7777777777777778,
              "#fb9f3a"
             ],
             [
              0.8888888888888888,
              "#fdca26"
             ],
             [
              1,
              "#f0f921"
             ]
            ],
            "type": "heatmapgl"
           }
          ],
          "histogram": [
           {
            "marker": {
             "pattern": {
              "fillmode": "overlay",
              "size": 10,
              "solidity": 0.2
             }
            },
            "type": "histogram"
           }
          ],
          "histogram2d": [
           {
            "colorbar": {
             "outlinewidth": 0,
             "ticks": ""
            },
            "colorscale": [
             [
              0,
              "#0d0887"
             ],
             [
              0.1111111111111111,
              "#46039f"
             ],
             [
              0.2222222222222222,
              "#7201a8"
             ],
             [
              0.3333333333333333,
              "#9c179e"
             ],
             [
              0.4444444444444444,
              "#bd3786"
             ],
             [
              0.5555555555555556,
              "#d8576b"
             ],
             [
              0.6666666666666666,
              "#ed7953"
             ],
             [
              0.7777777777777778,
              "#fb9f3a"
             ],
             [
              0.8888888888888888,
              "#fdca26"
             ],
             [
              1,
              "#f0f921"
             ]
            ],
            "type": "histogram2d"
           }
          ],
          "histogram2dcontour": [
           {
            "colorbar": {
             "outlinewidth": 0,
             "ticks": ""
            },
            "colorscale": [
             [
              0,
              "#0d0887"
             ],
             [
              0.1111111111111111,
              "#46039f"
             ],
             [
              0.2222222222222222,
              "#7201a8"
             ],
             [
              0.3333333333333333,
              "#9c179e"
             ],
             [
              0.4444444444444444,
              "#bd3786"
             ],
             [
              0.5555555555555556,
              "#d8576b"
             ],
             [
              0.6666666666666666,
              "#ed7953"
             ],
             [
              0.7777777777777778,
              "#fb9f3a"
             ],
             [
              0.8888888888888888,
              "#fdca26"
             ],
             [
              1,
              "#f0f921"
             ]
            ],
            "type": "histogram2dcontour"
           }
          ],
          "mesh3d": [
           {
            "colorbar": {
             "outlinewidth": 0,
             "ticks": ""
            },
            "type": "mesh3d"
           }
          ],
          "parcoords": [
           {
            "line": {
             "colorbar": {
              "outlinewidth": 0,
              "ticks": ""
             }
            },
            "type": "parcoords"
           }
          ],
          "pie": [
           {
            "automargin": true,
            "type": "pie"
           }
          ],
          "scatter": [
           {
            "fillpattern": {
             "fillmode": "overlay",
             "size": 10,
             "solidity": 0.2
            },
            "type": "scatter"
           }
          ],
          "scatter3d": [
           {
            "line": {
             "colorbar": {
              "outlinewidth": 0,
              "ticks": ""
             }
            },
            "marker": {
             "colorbar": {
              "outlinewidth": 0,
              "ticks": ""
             }
            },
            "type": "scatter3d"
           }
          ],
          "scattercarpet": [
           {
            "marker": {
             "colorbar": {
              "outlinewidth": 0,
              "ticks": ""
             }
            },
            "type": "scattercarpet"
           }
          ],
          "scattergeo": [
           {
            "marker": {
             "colorbar": {
              "outlinewidth": 0,
              "ticks": ""
             }
            },
            "type": "scattergeo"
           }
          ],
          "scattergl": [
           {
            "marker": {
             "colorbar": {
              "outlinewidth": 0,
              "ticks": ""
             }
            },
            "type": "scattergl"
           }
          ],
          "scattermapbox": [
           {
            "marker": {
             "colorbar": {
              "outlinewidth": 0,
              "ticks": ""
             }
            },
            "type": "scattermapbox"
           }
          ],
          "scatterpolar": [
           {
            "marker": {
             "colorbar": {
              "outlinewidth": 0,
              "ticks": ""
             }
            },
            "type": "scatterpolar"
           }
          ],
          "scatterpolargl": [
           {
            "marker": {
             "colorbar": {
              "outlinewidth": 0,
              "ticks": ""
             }
            },
            "type": "scatterpolargl"
           }
          ],
          "scatterternary": [
           {
            "marker": {
             "colorbar": {
              "outlinewidth": 0,
              "ticks": ""
             }
            },
            "type": "scatterternary"
           }
          ],
          "surface": [
           {
            "colorbar": {
             "outlinewidth": 0,
             "ticks": ""
            },
            "colorscale": [
             [
              0,
              "#0d0887"
             ],
             [
              0.1111111111111111,
              "#46039f"
             ],
             [
              0.2222222222222222,
              "#7201a8"
             ],
             [
              0.3333333333333333,
              "#9c179e"
             ],
             [
              0.4444444444444444,
              "#bd3786"
             ],
             [
              0.5555555555555556,
              "#d8576b"
             ],
             [
              0.6666666666666666,
              "#ed7953"
             ],
             [
              0.7777777777777778,
              "#fb9f3a"
             ],
             [
              0.8888888888888888,
              "#fdca26"
             ],
             [
              1,
              "#f0f921"
             ]
            ],
            "type": "surface"
           }
          ],
          "table": [
           {
            "cells": {
             "fill": {
              "color": "#EBF0F8"
             },
             "line": {
              "color": "white"
             }
            },
            "header": {
             "fill": {
              "color": "#C8D4E3"
             },
             "line": {
              "color": "white"
             }
            },
            "type": "table"
           }
          ]
         },
         "layout": {
          "annotationdefaults": {
           "arrowcolor": "#2a3f5f",
           "arrowhead": 0,
           "arrowwidth": 1
          },
          "autotypenumbers": "strict",
          "coloraxis": {
           "colorbar": {
            "outlinewidth": 0,
            "ticks": ""
           }
          },
          "colorscale": {
           "diverging": [
            [
             0,
             "#8e0152"
            ],
            [
             0.1,
             "#c51b7d"
            ],
            [
             0.2,
             "#de77ae"
            ],
            [
             0.3,
             "#f1b6da"
            ],
            [
             0.4,
             "#fde0ef"
            ],
            [
             0.5,
             "#f7f7f7"
            ],
            [
             0.6,
             "#e6f5d0"
            ],
            [
             0.7,
             "#b8e186"
            ],
            [
             0.8,
             "#7fbc41"
            ],
            [
             0.9,
             "#4d9221"
            ],
            [
             1,
             "#276419"
            ]
           ],
           "sequential": [
            [
             0,
             "#0d0887"
            ],
            [
             0.1111111111111111,
             "#46039f"
            ],
            [
             0.2222222222222222,
             "#7201a8"
            ],
            [
             0.3333333333333333,
             "#9c179e"
            ],
            [
             0.4444444444444444,
             "#bd3786"
            ],
            [
             0.5555555555555556,
             "#d8576b"
            ],
            [
             0.6666666666666666,
             "#ed7953"
            ],
            [
             0.7777777777777778,
             "#fb9f3a"
            ],
            [
             0.8888888888888888,
             "#fdca26"
            ],
            [
             1,
             "#f0f921"
            ]
           ],
           "sequentialminus": [
            [
             0,
             "#0d0887"
            ],
            [
             0.1111111111111111,
             "#46039f"
            ],
            [
             0.2222222222222222,
             "#7201a8"
            ],
            [
             0.3333333333333333,
             "#9c179e"
            ],
            [
             0.4444444444444444,
             "#bd3786"
            ],
            [
             0.5555555555555556,
             "#d8576b"
            ],
            [
             0.6666666666666666,
             "#ed7953"
            ],
            [
             0.7777777777777778,
             "#fb9f3a"
            ],
            [
             0.8888888888888888,
             "#fdca26"
            ],
            [
             1,
             "#f0f921"
            ]
           ]
          },
          "colorway": [
           "#636efa",
           "#EF553B",
           "#00cc96",
           "#ab63fa",
           "#FFA15A",
           "#19d3f3",
           "#FF6692",
           "#B6E880",
           "#FF97FF",
           "#FECB52"
          ],
          "font": {
           "color": "#2a3f5f"
          },
          "geo": {
           "bgcolor": "white",
           "lakecolor": "white",
           "landcolor": "#E5ECF6",
           "showlakes": true,
           "showland": true,
           "subunitcolor": "white"
          },
          "hoverlabel": {
           "align": "left"
          },
          "hovermode": "closest",
          "mapbox": {
           "style": "light"
          },
          "paper_bgcolor": "white",
          "plot_bgcolor": "#E5ECF6",
          "polar": {
           "angularaxis": {
            "gridcolor": "white",
            "linecolor": "white",
            "ticks": ""
           },
           "bgcolor": "#E5ECF6",
           "radialaxis": {
            "gridcolor": "white",
            "linecolor": "white",
            "ticks": ""
           }
          },
          "scene": {
           "xaxis": {
            "backgroundcolor": "#E5ECF6",
            "gridcolor": "white",
            "gridwidth": 2,
            "linecolor": "white",
            "showbackground": true,
            "ticks": "",
            "zerolinecolor": "white"
           },
           "yaxis": {
            "backgroundcolor": "#E5ECF6",
            "gridcolor": "white",
            "gridwidth": 2,
            "linecolor": "white",
            "showbackground": true,
            "ticks": "",
            "zerolinecolor": "white"
           },
           "zaxis": {
            "backgroundcolor": "#E5ECF6",
            "gridcolor": "white",
            "gridwidth": 2,
            "linecolor": "white",
            "showbackground": true,
            "ticks": "",
            "zerolinecolor": "white"
           }
          },
          "shapedefaults": {
           "line": {
            "color": "#2a3f5f"
           }
          },
          "ternary": {
           "aaxis": {
            "gridcolor": "white",
            "linecolor": "white",
            "ticks": ""
           },
           "baxis": {
            "gridcolor": "white",
            "linecolor": "white",
            "ticks": ""
           },
           "bgcolor": "#E5ECF6",
           "caxis": {
            "gridcolor": "white",
            "linecolor": "white",
            "ticks": ""
           }
          },
          "title": {
           "x": 0.05
          },
          "xaxis": {
           "automargin": true,
           "gridcolor": "white",
           "linecolor": "white",
           "ticks": "",
           "title": {
            "standoff": 15
           },
           "zerolinecolor": "white",
           "zerolinewidth": 2
          },
          "yaxis": {
           "automargin": true,
           "gridcolor": "white",
           "linecolor": "white",
           "ticks": "",
           "title": {
            "standoff": 15
           },
           "zerolinecolor": "white",
           "zerolinewidth": 2
          }
         }
        },
        "title": {
         "text": "Cantidad de Películas por Clasificación",
         "x": 0.5
        },
        "xaxis": {
         "anchor": "y",
         "categoryarray": [
          "0+",
          "12+",
          "13",
          "16",
          "18+",
          "7",
          "A",
          "AA",
          "Approved",
          "B",
          "B-15",
          "B15",
          "C",
          "Not Rated",
          "PG",
          "PG-13",
          "Passed",
          "R",
          "S/C"
         ],
         "categoryorder": "array",
         "domain": [
          0,
          1
         ],
         "title": {
          "text": "Clasificación"
         }
        },
        "yaxis": {
         "anchor": "x",
         "domain": [
          0,
          1
         ],
         "title": {
          "text": "Cantidad"
         }
        }
       }
      }
     },
     "metadata": {},
     "output_type": "display_data"
    }
   ],
   "source": [
    "# 4: Clasificación de Películas más Común\n",
    "df_clasificacion_movie = dataset_movies.groupby(by=\"Clasification Movie\",as_index=False,observed=True).size()\n",
    "# df_clasificacion_movie.head()\n",
    "bar_plot = px.bar(data_frame=df_clasificacion_movie,x=\"Clasification Movie\",y=\"size\",color=\"Clasification Movie\")\n",
    "bar_plot.update_layout(\n",
    "    title = \"Cantidad de Películas por Clasificación\",\n",
    "    title_x = 0.5,\n",
    "    showlegend = False,\n",
    "    hoverlabel = dict(\n",
    "        bgcolor = 'blue',\n",
    "        font_color = \"white\"\n",
    "    ),\n",
    "    xaxis_title = \"Clasificación\",\n",
    "    yaxis_title = \"Cantidad\"\n",
    "    \n",
    ")\n",
    "bar_plot.update_traces(\n",
    "    hovertemplate = \"Cantidad:%{y}<br>Clasificación:%{x}<extra></extra>\"\n",
    ")\n",
    "bar_plot.show()"
   ]
  },
  {
   "cell_type": "code",
   "execution_count": 194,
   "metadata": {},
   "outputs": [
    {
     "data": {
      "application/vnd.plotly.v1+json": {
       "config": {
        "plotlyServerURL": "https://plot.ly"
       },
       "data": [
        {
         "alignmentgroup": "True",
         "hovertemplate": "Clasification Movie=%{x}<br>Total Duration Minutes=%{y}<extra></extra>",
         "legendgroup": "B",
         "marker": {
          "color": "#636efa"
         },
         "name": "B",
         "notched": false,
         "offsetgroup": "B",
         "orientation": "v",
         "showlegend": true,
         "type": "box",
         "x": [
          "B",
          "B",
          "B",
          "B",
          "B",
          "B",
          "B",
          "B",
          "B",
          "B",
          "B",
          "B",
          "B",
          "B",
          "B",
          "B",
          "B",
          "B",
          "B",
          "B",
          "B",
          "B",
          "B",
          "B",
          "B",
          "B",
          "B",
          "B",
          "B",
          "B",
          "B",
          "B",
          "B",
          "B",
          "B",
          "B",
          "B",
          "B",
          "B",
          "B",
          "B",
          "B",
          "B",
          "B",
          "B",
          "B",
          "B",
          "B",
          "B",
          "B",
          "B",
          "B",
          "B",
          "B",
          "B",
          "B",
          "B",
          "B",
          "B",
          "B",
          "B",
          "B",
          "B",
          "B",
          "B",
          "B",
          "B",
          "B",
          "B",
          "B",
          "B",
          "B",
          "B",
          "B",
          "B",
          "B",
          "B",
          "B",
          "B",
          "B",
          "B",
          "B",
          "B",
          "B",
          "B",
          "B",
          "B"
         ],
         "x0": " ",
         "xaxis": "x",
         "y": [
          142,
          152,
          96,
          201,
          178,
          179,
          148,
          136,
          133,
          169,
          207,
          169,
          189,
          116,
          137,
          88,
          106,
          133,
          130,
          102,
          112,
          117,
          166,
          166,
          113,
          149,
          110,
          88,
          164,
          160,
          181,
          126,
          95,
          149,
          133,
          126,
          115,
          149,
          125,
          227,
          107,
          136,
          119,
          117,
          122,
          123,
          129,
          104,
          119,
          140,
          130,
          97,
          138,
          130,
          130,
          135,
          110,
          124,
          105,
          238,
          88,
          129,
          141,
          137,
          140,
          116,
          132,
          148,
          185,
          128,
          133,
          124,
          92,
          152,
          129,
          107,
          96,
          118,
          143,
          121,
          80,
          110,
          89,
          129,
          130,
          146,
          130
         ],
         "y0": " ",
         "yaxis": "y"
        },
        {
         "alignmentgroup": "True",
         "hovertemplate": "Clasification Movie=%{x}<br>Total Duration Minutes=%{y}<extra></extra>",
         "legendgroup": "C",
         "marker": {
          "color": "#EF553B"
         },
         "name": "C",
         "notched": false,
         "offsetgroup": "C",
         "orientation": "v",
         "showlegend": true,
         "type": "box",
         "x": [
          "C",
          "C",
          "C",
          "C",
          "C",
          "C",
          "C",
          "C",
          "C",
          "C",
          "C",
          "C",
          "C",
          "C",
          "C",
          "C",
          "C",
          "C",
          "C",
          "C",
          "C",
          "C",
          "C",
          "C",
          "C",
          "C",
          "C",
          "C",
          "C",
          "C",
          "C",
          "C",
          "C",
          "C",
          "C",
          "C",
          "C",
          "C",
          "C",
          "C",
          "C",
          "C",
          "C"
         ],
         "x0": " ",
         "xaxis": "x",
         "y": [
          175,
          202,
          154,
          161,
          139,
          145,
          118,
          130,
          151,
          119,
          110,
          147,
          146,
          137,
          120,
          122,
          178,
          229,
          102,
          99,
          170,
          170,
          116,
          136,
          132,
          138,
          156,
          114,
          180,
          178,
          107,
          122,
          109,
          111,
          107,
          93,
          129,
          117,
          183,
          137,
          98,
          122,
          154
         ],
         "y0": " ",
         "yaxis": "y"
        },
        {
         "alignmentgroup": "True",
         "hovertemplate": "Clasification Movie=%{x}<br>Total Duration Minutes=%{y}<extra></extra>",
         "legendgroup": "B15",
         "marker": {
          "color": "#00cc96"
         },
         "name": "B15",
         "notched": false,
         "offsetgroup": "B15",
         "orientation": "v",
         "showlegend": true,
         "type": "box",
         "x": [
          "B15",
          "B15",
          "B15",
          "B15",
          "B15",
          "B15",
          "B15",
          "B15",
          "B15",
          "B15",
          "B15",
          "B15",
          "B15",
          "B15",
          "B15",
          "B15",
          "B15",
          "B15",
          "B15",
          "B15",
          "B15",
          "B15",
          "B15",
          "B15",
          "B15",
          "B15",
          "B15",
          "B15",
          "B15",
          "B15",
          "B15",
          "B15"
         ],
         "x0": " ",
         "xaxis": "x",
         "y": [
          195,
          127,
          155,
          132,
          109,
          106,
          165,
          137,
          153,
          122,
          142,
          108,
          131,
          128,
          180,
          138,
          158,
          118,
          153,
          130,
          132,
          115,
          98,
          134,
          99,
          139,
          149,
          92,
          120,
          123,
          145,
          148
         ],
         "y0": " ",
         "yaxis": "y"
        },
        {
         "alignmentgroup": "True",
         "hovertemplate": "Clasification Movie=%{x}<br>Total Duration Minutes=%{y}<extra></extra>",
         "legendgroup": "13",
         "marker": {
          "color": "#ab63fa"
         },
         "name": "13",
         "notched": false,
         "offsetgroup": "13",
         "orientation": "v",
         "showlegend": true,
         "type": "box",
         "x": [
          "13",
          "13",
          "13"
         ],
         "x0": " ",
         "xaxis": "x",
         "y": [
          142,
          129,
          161
         ],
         "y0": " ",
         "yaxis": "y"
        },
        {
         "alignmentgroup": "True",
         "hovertemplate": "Clasification Movie=%{x}<br>Total Duration Minutes=%{y}<extra></extra>",
         "legendgroup": "AA",
         "marker": {
          "color": "#FFA15A"
         },
         "name": "AA",
         "notched": false,
         "offsetgroup": "AA",
         "orientation": "v",
         "showlegend": true,
         "type": "box",
         "x": [
          "AA",
          "AA",
          "AA",
          "AA",
          "AA",
          "AA",
          "AA",
          "AA",
          "AA",
          "AA",
          "AA",
          "AA",
          "AA"
         ],
         "x0": " ",
         "xaxis": "x",
         "y": [
          124,
          121,
          88,
          98,
          125,
          81,
          103,
          96,
          160,
          100,
          95,
          92,
          98
         ],
         "y0": " ",
         "yaxis": "y"
        },
        {
         "alignmentgroup": "True",
         "hovertemplate": "Clasification Movie=%{x}<br>Total Duration Minutes=%{y}<extra></extra>",
         "legendgroup": "A",
         "marker": {
          "color": "#19d3f3"
         },
         "name": "A",
         "notched": false,
         "offsetgroup": "A",
         "orientation": "v",
         "showlegend": true,
         "type": "box",
         "x": [
          "A",
          "A",
          "A",
          "A",
          "A",
          "A",
          "A",
          "A",
          "A",
          "A",
          "A",
          "A",
          "A",
          "A",
          "A",
          "A",
          "A",
          "A",
          "A",
          "A",
          "A",
          "A",
          "A",
          "A",
          "A",
          "A",
          "A",
          "A",
          "A",
          "A",
          "A",
          "A",
          "A",
          "A",
          "A",
          "A",
          "A",
          "A"
         ],
         "x0": " ",
         "xaxis": "x",
         "y": [
          130,
          116,
          124,
          140,
          174,
          87,
          87,
          115,
          117,
          116,
          105,
          106,
          103,
          131,
          143,
          127,
          153,
          103,
          179,
          121,
          68,
          127,
          126,
          119,
          102,
          86,
          101,
          111,
          78,
          108,
          120,
          137,
          102,
          115,
          172,
          93,
          86,
          101
         ],
         "y0": " ",
         "yaxis": "y"
        },
        {
         "alignmentgroup": "True",
         "hovertemplate": "Clasification Movie=%{x}<br>Total Duration Minutes=%{y}<extra></extra>",
         "legendgroup": "PG-13",
         "marker": {
          "color": "#FF6692"
         },
         "name": "PG-13",
         "notched": false,
         "offsetgroup": "PG-13",
         "orientation": "v",
         "showlegend": true,
         "type": "box",
         "x": [
          "PG-13"
         ],
         "x0": " ",
         "xaxis": "x",
         "y": [
          150
         ],
         "y0": " ",
         "yaxis": "y"
        },
        {
         "alignmentgroup": "True",
         "hovertemplate": "Clasification Movie=%{x}<br>Total Duration Minutes=%{y}<extra></extra>",
         "legendgroup": "R",
         "marker": {
          "color": "#B6E880"
         },
         "name": "R",
         "notched": false,
         "offsetgroup": "R",
         "orientation": "v",
         "showlegend": true,
         "type": "box",
         "x": [
          "R",
          "R",
          "R"
         ],
         "x0": " ",
         "xaxis": "x",
         "y": [
          112,
          132,
          121
         ],
         "y0": " ",
         "yaxis": "y"
        },
        {
         "alignmentgroup": "True",
         "hovertemplate": "Clasification Movie=%{x}<br>Total Duration Minutes=%{y}<extra></extra>",
         "legendgroup": "S/C",
         "marker": {
          "color": "#FF97FF"
         },
         "name": "S/C",
         "notched": false,
         "offsetgroup": "S/C",
         "orientation": "v",
         "showlegend": true,
         "type": "box",
         "x": [
          "S/C",
          "S/C",
          "S/C",
          "S/C"
         ],
         "x0": " ",
         "xaxis": "x",
         "y": [
          147,
          91,
          141,
          87
         ],
         "y0": " ",
         "yaxis": "y"
        },
        {
         "alignmentgroup": "True",
         "hovertemplate": "Clasification Movie=%{x}<br>Total Duration Minutes=%{y}<extra></extra>",
         "legendgroup": "18+",
         "marker": {
          "color": "#FECB52"
         },
         "name": "18+",
         "notched": false,
         "offsetgroup": "18+",
         "orientation": "v",
         "showlegend": true,
         "type": "box",
         "x": [
          "18+",
          "18+"
         ],
         "x0": " ",
         "xaxis": "x",
         "y": [
          143,
          131
         ],
         "y0": " ",
         "yaxis": "y"
        },
        {
         "alignmentgroup": "True",
         "hovertemplate": "Clasification Movie=%{x}<br>Total Duration Minutes=%{y}<extra></extra>",
         "legendgroup": "0+",
         "marker": {
          "color": "#636efa"
         },
         "name": "0+",
         "notched": false,
         "offsetgroup": "0+",
         "orientation": "v",
         "showlegend": true,
         "type": "box",
         "x": [
          "0+"
         ],
         "x0": " ",
         "xaxis": "x",
         "y": [
          170
         ],
         "y0": " ",
         "yaxis": "y"
        },
        {
         "alignmentgroup": "True",
         "hovertemplate": "Clasification Movie=%{x}<br>Total Duration Minutes=%{y}<extra></extra>",
         "legendgroup": "PG",
         "marker": {
          "color": "#EF553B"
         },
         "name": "PG",
         "notched": false,
         "offsetgroup": "PG",
         "orientation": "v",
         "showlegend": true,
         "type": "box",
         "x": [
          "PG",
          "PG",
          "PG",
          "PG",
          "PG"
         ],
         "x0": " ",
         "xaxis": "x",
         "y": [
          162,
          96,
          161,
          130,
          89
         ],
         "y0": " ",
         "yaxis": "y"
        },
        {
         "alignmentgroup": "True",
         "hovertemplate": "Clasification Movie=%{x}<br>Total Duration Minutes=%{y}<extra></extra>",
         "legendgroup": "12+",
         "marker": {
          "color": "#00cc96"
         },
         "name": "12+",
         "notched": false,
         "offsetgroup": "12+",
         "orientation": "v",
         "showlegend": true,
         "type": "box",
         "x": [
          "12+"
         ],
         "x0": " ",
         "xaxis": "x",
         "y": [
          89
         ],
         "y0": " ",
         "yaxis": "y"
        },
        {
         "alignmentgroup": "True",
         "hovertemplate": "Clasification Movie=%{x}<br>Total Duration Minutes=%{y}<extra></extra>",
         "legendgroup": "16",
         "marker": {
          "color": "#ab63fa"
         },
         "name": "16",
         "notched": false,
         "offsetgroup": "16",
         "orientation": "v",
         "showlegend": true,
         "type": "box",
         "x": [
          "16",
          "16"
         ],
         "x0": " ",
         "xaxis": "x",
         "y": [
          160,
          104
         ],
         "y0": " ",
         "yaxis": "y"
        },
        {
         "alignmentgroup": "True",
         "hovertemplate": "Clasification Movie=%{x}<br>Total Duration Minutes=%{y}<extra></extra>",
         "legendgroup": "Approved",
         "marker": {
          "color": "#FFA15A"
         },
         "name": "Approved",
         "notched": false,
         "offsetgroup": "Approved",
         "orientation": "v",
         "showlegend": true,
         "type": "box",
         "x": [
          "Approved",
          "Approved",
          "Approved",
          "Approved",
          "Approved",
          "Approved"
         ],
         "x0": " ",
         "xaxis": "x",
         "y": [
          172,
          95,
          129,
          164,
          170,
          99
         ],
         "y0": " ",
         "yaxis": "y"
        },
        {
         "alignmentgroup": "True",
         "hovertemplate": "Clasification Movie=%{x}<br>Total Duration Minutes=%{y}<extra></extra>",
         "legendgroup": "B-15",
         "marker": {
          "color": "#19d3f3"
         },
         "name": "B-15",
         "notched": false,
         "offsetgroup": "B-15",
         "orientation": "v",
         "showlegend": true,
         "type": "box",
         "x": [
          "B-15",
          "B-15",
          "B-15"
         ],
         "x0": " ",
         "xaxis": "x",
         "y": [
          120,
          122,
          117
         ],
         "y0": " ",
         "yaxis": "y"
        },
        {
         "alignmentgroup": "True",
         "hovertemplate": "Clasification Movie=%{x}<br>Total Duration Minutes=%{y}<extra></extra>",
         "legendgroup": "7",
         "marker": {
          "color": "#FF6692"
         },
         "name": "7",
         "notched": false,
         "offsetgroup": "7",
         "orientation": "v",
         "showlegend": true,
         "type": "box",
         "x": [
          "7"
         ],
         "x0": " ",
         "xaxis": "x",
         "y": [
          212
         ],
         "y0": " ",
         "yaxis": "y"
        },
        {
         "alignmentgroup": "True",
         "hovertemplate": "Clasification Movie=%{x}<br>Total Duration Minutes=%{y}<extra></extra>",
         "legendgroup": "Passed",
         "marker": {
          "color": "#B6E880"
         },
         "name": "Passed",
         "notched": false,
         "offsetgroup": "Passed",
         "orientation": "v",
         "showlegend": true,
         "type": "box",
         "x": [
          "Passed"
         ],
         "x0": " ",
         "xaxis": "x",
         "y": [
          45
         ],
         "y0": " ",
         "yaxis": "y"
        },
        {
         "alignmentgroup": "True",
         "hovertemplate": "Clasification Movie=%{x}<br>Total Duration Minutes=%{y}<extra></extra>",
         "legendgroup": "Not Rated",
         "marker": {
          "color": "#FF97FF"
         },
         "name": "Not Rated",
         "notched": false,
         "offsetgroup": "Not Rated",
         "orientation": "v",
         "showlegend": true,
         "type": "box",
         "x": [
          "Not Rated",
          "Not Rated",
          "Not Rated",
          "Not Rated"
         ],
         "x0": " ",
         "xaxis": "x",
         "y": [
          156,
          112,
          121,
          163
         ],
         "y0": " ",
         "yaxis": "y"
        }
       ],
       "layout": {
        "boxmode": "overlay",
        "hoverlabel": {
         "bgcolor": "white",
         "font": {
          "color": "black"
         }
        },
        "legend": {
         "title": {
          "text": "Clasification Movie"
         },
         "tracegroupgap": 0
        },
        "margin": {
         "t": 60
        },
        "showlegend": false,
        "template": {
         "data": {
          "bar": [
           {
            "error_x": {
             "color": "#2a3f5f"
            },
            "error_y": {
             "color": "#2a3f5f"
            },
            "marker": {
             "line": {
              "color": "#E5ECF6",
              "width": 0.5
             },
             "pattern": {
              "fillmode": "overlay",
              "size": 10,
              "solidity": 0.2
             }
            },
            "type": "bar"
           }
          ],
          "barpolar": [
           {
            "marker": {
             "line": {
              "color": "#E5ECF6",
              "width": 0.5
             },
             "pattern": {
              "fillmode": "overlay",
              "size": 10,
              "solidity": 0.2
             }
            },
            "type": "barpolar"
           }
          ],
          "carpet": [
           {
            "aaxis": {
             "endlinecolor": "#2a3f5f",
             "gridcolor": "white",
             "linecolor": "white",
             "minorgridcolor": "white",
             "startlinecolor": "#2a3f5f"
            },
            "baxis": {
             "endlinecolor": "#2a3f5f",
             "gridcolor": "white",
             "linecolor": "white",
             "minorgridcolor": "white",
             "startlinecolor": "#2a3f5f"
            },
            "type": "carpet"
           }
          ],
          "choropleth": [
           {
            "colorbar": {
             "outlinewidth": 0,
             "ticks": ""
            },
            "type": "choropleth"
           }
          ],
          "contour": [
           {
            "colorbar": {
             "outlinewidth": 0,
             "ticks": ""
            },
            "colorscale": [
             [
              0,
              "#0d0887"
             ],
             [
              0.1111111111111111,
              "#46039f"
             ],
             [
              0.2222222222222222,
              "#7201a8"
             ],
             [
              0.3333333333333333,
              "#9c179e"
             ],
             [
              0.4444444444444444,
              "#bd3786"
             ],
             [
              0.5555555555555556,
              "#d8576b"
             ],
             [
              0.6666666666666666,
              "#ed7953"
             ],
             [
              0.7777777777777778,
              "#fb9f3a"
             ],
             [
              0.8888888888888888,
              "#fdca26"
             ],
             [
              1,
              "#f0f921"
             ]
            ],
            "type": "contour"
           }
          ],
          "contourcarpet": [
           {
            "colorbar": {
             "outlinewidth": 0,
             "ticks": ""
            },
            "type": "contourcarpet"
           }
          ],
          "heatmap": [
           {
            "colorbar": {
             "outlinewidth": 0,
             "ticks": ""
            },
            "colorscale": [
             [
              0,
              "#0d0887"
             ],
             [
              0.1111111111111111,
              "#46039f"
             ],
             [
              0.2222222222222222,
              "#7201a8"
             ],
             [
              0.3333333333333333,
              "#9c179e"
             ],
             [
              0.4444444444444444,
              "#bd3786"
             ],
             [
              0.5555555555555556,
              "#d8576b"
             ],
             [
              0.6666666666666666,
              "#ed7953"
             ],
             [
              0.7777777777777778,
              "#fb9f3a"
             ],
             [
              0.8888888888888888,
              "#fdca26"
             ],
             [
              1,
              "#f0f921"
             ]
            ],
            "type": "heatmap"
           }
          ],
          "heatmapgl": [
           {
            "colorbar": {
             "outlinewidth": 0,
             "ticks": ""
            },
            "colorscale": [
             [
              0,
              "#0d0887"
             ],
             [
              0.1111111111111111,
              "#46039f"
             ],
             [
              0.2222222222222222,
              "#7201a8"
             ],
             [
              0.3333333333333333,
              "#9c179e"
             ],
             [
              0.4444444444444444,
              "#bd3786"
             ],
             [
              0.5555555555555556,
              "#d8576b"
             ],
             [
              0.6666666666666666,
              "#ed7953"
             ],
             [
              0.7777777777777778,
              "#fb9f3a"
             ],
             [
              0.8888888888888888,
              "#fdca26"
             ],
             [
              1,
              "#f0f921"
             ]
            ],
            "type": "heatmapgl"
           }
          ],
          "histogram": [
           {
            "marker": {
             "pattern": {
              "fillmode": "overlay",
              "size": 10,
              "solidity": 0.2
             }
            },
            "type": "histogram"
           }
          ],
          "histogram2d": [
           {
            "colorbar": {
             "outlinewidth": 0,
             "ticks": ""
            },
            "colorscale": [
             [
              0,
              "#0d0887"
             ],
             [
              0.1111111111111111,
              "#46039f"
             ],
             [
              0.2222222222222222,
              "#7201a8"
             ],
             [
              0.3333333333333333,
              "#9c179e"
             ],
             [
              0.4444444444444444,
              "#bd3786"
             ],
             [
              0.5555555555555556,
              "#d8576b"
             ],
             [
              0.6666666666666666,
              "#ed7953"
             ],
             [
              0.7777777777777778,
              "#fb9f3a"
             ],
             [
              0.8888888888888888,
              "#fdca26"
             ],
             [
              1,
              "#f0f921"
             ]
            ],
            "type": "histogram2d"
           }
          ],
          "histogram2dcontour": [
           {
            "colorbar": {
             "outlinewidth": 0,
             "ticks": ""
            },
            "colorscale": [
             [
              0,
              "#0d0887"
             ],
             [
              0.1111111111111111,
              "#46039f"
             ],
             [
              0.2222222222222222,
              "#7201a8"
             ],
             [
              0.3333333333333333,
              "#9c179e"
             ],
             [
              0.4444444444444444,
              "#bd3786"
             ],
             [
              0.5555555555555556,
              "#d8576b"
             ],
             [
              0.6666666666666666,
              "#ed7953"
             ],
             [
              0.7777777777777778,
              "#fb9f3a"
             ],
             [
              0.8888888888888888,
              "#fdca26"
             ],
             [
              1,
              "#f0f921"
             ]
            ],
            "type": "histogram2dcontour"
           }
          ],
          "mesh3d": [
           {
            "colorbar": {
             "outlinewidth": 0,
             "ticks": ""
            },
            "type": "mesh3d"
           }
          ],
          "parcoords": [
           {
            "line": {
             "colorbar": {
              "outlinewidth": 0,
              "ticks": ""
             }
            },
            "type": "parcoords"
           }
          ],
          "pie": [
           {
            "automargin": true,
            "type": "pie"
           }
          ],
          "scatter": [
           {
            "fillpattern": {
             "fillmode": "overlay",
             "size": 10,
             "solidity": 0.2
            },
            "type": "scatter"
           }
          ],
          "scatter3d": [
           {
            "line": {
             "colorbar": {
              "outlinewidth": 0,
              "ticks": ""
             }
            },
            "marker": {
             "colorbar": {
              "outlinewidth": 0,
              "ticks": ""
             }
            },
            "type": "scatter3d"
           }
          ],
          "scattercarpet": [
           {
            "marker": {
             "colorbar": {
              "outlinewidth": 0,
              "ticks": ""
             }
            },
            "type": "scattercarpet"
           }
          ],
          "scattergeo": [
           {
            "marker": {
             "colorbar": {
              "outlinewidth": 0,
              "ticks": ""
             }
            },
            "type": "scattergeo"
           }
          ],
          "scattergl": [
           {
            "marker": {
             "colorbar": {
              "outlinewidth": 0,
              "ticks": ""
             }
            },
            "type": "scattergl"
           }
          ],
          "scattermapbox": [
           {
            "marker": {
             "colorbar": {
              "outlinewidth": 0,
              "ticks": ""
             }
            },
            "type": "scattermapbox"
           }
          ],
          "scatterpolar": [
           {
            "marker": {
             "colorbar": {
              "outlinewidth": 0,
              "ticks": ""
             }
            },
            "type": "scatterpolar"
           }
          ],
          "scatterpolargl": [
           {
            "marker": {
             "colorbar": {
              "outlinewidth": 0,
              "ticks": ""
             }
            },
            "type": "scatterpolargl"
           }
          ],
          "scatterternary": [
           {
            "marker": {
             "colorbar": {
              "outlinewidth": 0,
              "ticks": ""
             }
            },
            "type": "scatterternary"
           }
          ],
          "surface": [
           {
            "colorbar": {
             "outlinewidth": 0,
             "ticks": ""
            },
            "colorscale": [
             [
              0,
              "#0d0887"
             ],
             [
              0.1111111111111111,
              "#46039f"
             ],
             [
              0.2222222222222222,
              "#7201a8"
             ],
             [
              0.3333333333333333,
              "#9c179e"
             ],
             [
              0.4444444444444444,
              "#bd3786"
             ],
             [
              0.5555555555555556,
              "#d8576b"
             ],
             [
              0.6666666666666666,
              "#ed7953"
             ],
             [
              0.7777777777777778,
              "#fb9f3a"
             ],
             [
              0.8888888888888888,
              "#fdca26"
             ],
             [
              1,
              "#f0f921"
             ]
            ],
            "type": "surface"
           }
          ],
          "table": [
           {
            "cells": {
             "fill": {
              "color": "#EBF0F8"
             },
             "line": {
              "color": "white"
             }
            },
            "header": {
             "fill": {
              "color": "#C8D4E3"
             },
             "line": {
              "color": "white"
             }
            },
            "type": "table"
           }
          ]
         },
         "layout": {
          "annotationdefaults": {
           "arrowcolor": "#2a3f5f",
           "arrowhead": 0,
           "arrowwidth": 1
          },
          "autotypenumbers": "strict",
          "coloraxis": {
           "colorbar": {
            "outlinewidth": 0,
            "ticks": ""
           }
          },
          "colorscale": {
           "diverging": [
            [
             0,
             "#8e0152"
            ],
            [
             0.1,
             "#c51b7d"
            ],
            [
             0.2,
             "#de77ae"
            ],
            [
             0.3,
             "#f1b6da"
            ],
            [
             0.4,
             "#fde0ef"
            ],
            [
             0.5,
             "#f7f7f7"
            ],
            [
             0.6,
             "#e6f5d0"
            ],
            [
             0.7,
             "#b8e186"
            ],
            [
             0.8,
             "#7fbc41"
            ],
            [
             0.9,
             "#4d9221"
            ],
            [
             1,
             "#276419"
            ]
           ],
           "sequential": [
            [
             0,
             "#0d0887"
            ],
            [
             0.1111111111111111,
             "#46039f"
            ],
            [
             0.2222222222222222,
             "#7201a8"
            ],
            [
             0.3333333333333333,
             "#9c179e"
            ],
            [
             0.4444444444444444,
             "#bd3786"
            ],
            [
             0.5555555555555556,
             "#d8576b"
            ],
            [
             0.6666666666666666,
             "#ed7953"
            ],
            [
             0.7777777777777778,
             "#fb9f3a"
            ],
            [
             0.8888888888888888,
             "#fdca26"
            ],
            [
             1,
             "#f0f921"
            ]
           ],
           "sequentialminus": [
            [
             0,
             "#0d0887"
            ],
            [
             0.1111111111111111,
             "#46039f"
            ],
            [
             0.2222222222222222,
             "#7201a8"
            ],
            [
             0.3333333333333333,
             "#9c179e"
            ],
            [
             0.4444444444444444,
             "#bd3786"
            ],
            [
             0.5555555555555556,
             "#d8576b"
            ],
            [
             0.6666666666666666,
             "#ed7953"
            ],
            [
             0.7777777777777778,
             "#fb9f3a"
            ],
            [
             0.8888888888888888,
             "#fdca26"
            ],
            [
             1,
             "#f0f921"
            ]
           ]
          },
          "colorway": [
           "#636efa",
           "#EF553B",
           "#00cc96",
           "#ab63fa",
           "#FFA15A",
           "#19d3f3",
           "#FF6692",
           "#B6E880",
           "#FF97FF",
           "#FECB52"
          ],
          "font": {
           "color": "#2a3f5f"
          },
          "geo": {
           "bgcolor": "white",
           "lakecolor": "white",
           "landcolor": "#E5ECF6",
           "showlakes": true,
           "showland": true,
           "subunitcolor": "white"
          },
          "hoverlabel": {
           "align": "left"
          },
          "hovermode": "closest",
          "mapbox": {
           "style": "light"
          },
          "paper_bgcolor": "white",
          "plot_bgcolor": "#E5ECF6",
          "polar": {
           "angularaxis": {
            "gridcolor": "white",
            "linecolor": "white",
            "ticks": ""
           },
           "bgcolor": "#E5ECF6",
           "radialaxis": {
            "gridcolor": "white",
            "linecolor": "white",
            "ticks": ""
           }
          },
          "scene": {
           "xaxis": {
            "backgroundcolor": "#E5ECF6",
            "gridcolor": "white",
            "gridwidth": 2,
            "linecolor": "white",
            "showbackground": true,
            "ticks": "",
            "zerolinecolor": "white"
           },
           "yaxis": {
            "backgroundcolor": "#E5ECF6",
            "gridcolor": "white",
            "gridwidth": 2,
            "linecolor": "white",
            "showbackground": true,
            "ticks": "",
            "zerolinecolor": "white"
           },
           "zaxis": {
            "backgroundcolor": "#E5ECF6",
            "gridcolor": "white",
            "gridwidth": 2,
            "linecolor": "white",
            "showbackground": true,
            "ticks": "",
            "zerolinecolor": "white"
           }
          },
          "shapedefaults": {
           "line": {
            "color": "#2a3f5f"
           }
          },
          "ternary": {
           "aaxis": {
            "gridcolor": "white",
            "linecolor": "white",
            "ticks": ""
           },
           "baxis": {
            "gridcolor": "white",
            "linecolor": "white",
            "ticks": ""
           },
           "bgcolor": "#E5ECF6",
           "caxis": {
            "gridcolor": "white",
            "linecolor": "white",
            "ticks": ""
           }
          },
          "title": {
           "x": 0.05
          },
          "xaxis": {
           "automargin": true,
           "gridcolor": "white",
           "linecolor": "white",
           "ticks": "",
           "title": {
            "standoff": 15
           },
           "zerolinecolor": "white",
           "zerolinewidth": 2
          },
          "yaxis": {
           "automargin": true,
           "gridcolor": "white",
           "linecolor": "white",
           "ticks": "",
           "title": {
            "standoff": 15
           },
           "zerolinecolor": "white",
           "zerolinewidth": 2
          }
         }
        },
        "title": {
         "text": "Promedio Duración Películas"
        },
        "xaxis": {
         "anchor": "y",
         "categoryarray": [
          "B",
          "C",
          "B15",
          "13",
          "AA",
          "A",
          "PG-13",
          "R",
          "S/C",
          "18+",
          "0+",
          "PG",
          "12+",
          "16",
          "Approved",
          "B-15",
          "7",
          "Passed",
          "Not Rated"
         ],
         "categoryorder": "array",
         "domain": [
          0,
          1
         ],
         "title": {
          "text": "Clasificación Película"
         }
        },
        "yaxis": {
         "anchor": "x",
         "domain": [
          0,
          1
         ],
         "title": {
          "text": "Duración Total (Minutos)"
         }
        }
       }
      }
     },
     "metadata": {},
     "output_type": "display_data"
    }
   ],
   "source": [
    "# 5: Comparación de Duración Media por Clasificación\n",
    "dataset_movies[\"Total Duration Minutes\"] = (dataset_movies[\"Duration Hours\"]*60)+dataset_movies[\"Duration Minutes\"]\n",
    "box_plot = px.box(data_frame=dataset_movies,x=\"Clasification Movie\",y=\"Total Duration Minutes\",color=\"Clasification Movie\")\n",
    "box_plot.update_layout(\n",
    "    showlegend = False,\n",
    "    title = \"Promedio Duración Películas\",\n",
    "    xaxis_title = \"Clasificación Película\",\n",
    "    yaxis_title = \"Duración Total (Minutos)\",\n",
    "    hoverlabel = dict(\n",
    "        bgcolor = \"white\",\n",
    "        font_color = 'black'\n",
    "    )\n",
    ")\n",
    "box_plot.show()"
   ]
  }
 ],
 "metadata": {
  "kernelspec": {
   "display_name": "venv",
   "language": "python",
   "name": "python3"
  },
  "language_info": {
   "codemirror_mode": {
    "name": "ipython",
    "version": 3
   },
   "file_extension": ".py",
   "mimetype": "text/x-python",
   "name": "python",
   "nbconvert_exporter": "python",
   "pygments_lexer": "ipython3",
   "version": "3.11.5"
  }
 },
 "nbformat": 4,
 "nbformat_minor": 2
}
